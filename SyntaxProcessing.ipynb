{
 "cells": [
  {
   "cell_type": "markdown",
   "metadata": {},
   "source": [
    "## POS tagging using modified Viterbi"
   ]
  },
  {
   "cell_type": "markdown",
   "metadata": {},
   "source": [
    "### Data Preparation"
   ]
  },
  {
   "cell_type": "code",
   "execution_count": 4,
   "metadata": {},
   "outputs": [],
   "source": [
    "#Importing libraries\n",
    "import nltk, re, pprint\n",
    "import numpy as np\n",
    "import pandas as pd\n",
    "import requests\n",
    "import matplotlib.pyplot as plt\n",
    "import seaborn as sns\n",
    "import pprint, time\n",
    "import random\n",
    "from sklearn.model_selection import train_test_split\n",
    "from nltk.tokenize import word_tokenize"
   ]
  },
  {
   "cell_type": "code",
   "execution_count": 5,
   "metadata": {},
   "outputs": [],
   "source": [
    "# reading the Treebank tagged sentences\n",
    "nltk_data = list(nltk.corpus.treebank.tagged_sents(tagset='universal'))"
   ]
  },
  {
   "cell_type": "code",
   "execution_count": 6,
   "metadata": {
    "scrolled": false
   },
   "outputs": [
    {
     "name": "stdout",
     "output_type": "stream",
     "text": [
      "[[('Pierre', 'NOUN'), ('Vinken', 'NOUN'), (',', '.'), ('61', 'NUM'), ('years', 'NOUN'), ('old', 'ADJ'), (',', '.'), ('will', 'VERB'), ('join', 'VERB'), ('the', 'DET'), ('board', 'NOUN'), ('as', 'ADP'), ('a', 'DET'), ('nonexecutive', 'ADJ'), ('director', 'NOUN'), ('Nov.', 'NOUN'), ('29', 'NUM'), ('.', '.')], [('Mr.', 'NOUN'), ('Vinken', 'NOUN'), ('is', 'VERB'), ('chairman', 'NOUN'), ('of', 'ADP'), ('Elsevier', 'NOUN'), ('N.V.', 'NOUN'), (',', '.'), ('the', 'DET'), ('Dutch', 'NOUN'), ('publishing', 'VERB'), ('group', 'NOUN'), ('.', '.')], [('Rudolph', 'NOUN'), ('Agnew', 'NOUN'), (',', '.'), ('55', 'NUM'), ('years', 'NOUN'), ('old', 'ADJ'), ('and', 'CONJ'), ('former', 'ADJ'), ('chairman', 'NOUN'), ('of', 'ADP'), ('Consolidated', 'NOUN'), ('Gold', 'NOUN'), ('Fields', 'NOUN'), ('PLC', 'NOUN'), (',', '.'), ('was', 'VERB'), ('named', 'VERB'), ('*-1', 'X'), ('a', 'DET'), ('nonexecutive', 'ADJ'), ('director', 'NOUN'), ('of', 'ADP'), ('this', 'DET'), ('British', 'ADJ'), ('industrial', 'ADJ'), ('conglomerate', 'NOUN'), ('.', '.')], [('A', 'DET'), ('form', 'NOUN'), ('of', 'ADP'), ('asbestos', 'NOUN'), ('once', 'ADV'), ('used', 'VERB'), ('*', 'X'), ('*', 'X'), ('to', 'PRT'), ('make', 'VERB'), ('Kent', 'NOUN'), ('cigarette', 'NOUN'), ('filters', 'NOUN'), ('has', 'VERB'), ('caused', 'VERB'), ('a', 'DET'), ('high', 'ADJ'), ('percentage', 'NOUN'), ('of', 'ADP'), ('cancer', 'NOUN'), ('deaths', 'NOUN'), ('among', 'ADP'), ('a', 'DET'), ('group', 'NOUN'), ('of', 'ADP'), ('workers', 'NOUN'), ('exposed', 'VERB'), ('*', 'X'), ('to', 'PRT'), ('it', 'PRON'), ('more', 'ADV'), ('than', 'ADP'), ('30', 'NUM'), ('years', 'NOUN'), ('ago', 'ADP'), (',', '.'), ('researchers', 'NOUN'), ('reported', 'VERB'), ('0', 'X'), ('*T*-1', 'X'), ('.', '.')], [('The', 'DET'), ('asbestos', 'NOUN'), ('fiber', 'NOUN'), (',', '.'), ('crocidolite', 'NOUN'), (',', '.'), ('is', 'VERB'), ('unusually', 'ADV'), ('resilient', 'ADJ'), ('once', 'ADP'), ('it', 'PRON'), ('enters', 'VERB'), ('the', 'DET'), ('lungs', 'NOUN'), (',', '.'), ('with', 'ADP'), ('even', 'ADV'), ('brief', 'ADJ'), ('exposures', 'NOUN'), ('to', 'PRT'), ('it', 'PRON'), ('causing', 'VERB'), ('symptoms', 'NOUN'), ('that', 'DET'), ('*T*-1', 'X'), ('show', 'VERB'), ('up', 'PRT'), ('decades', 'NOUN'), ('later', 'ADJ'), (',', '.'), ('researchers', 'NOUN'), ('said', 'VERB'), ('0', 'X'), ('*T*-2', 'X'), ('.', '.')], [('Lorillard', 'NOUN'), ('Inc.', 'NOUN'), (',', '.'), ('the', 'DET'), ('unit', 'NOUN'), ('of', 'ADP'), ('New', 'ADJ'), ('York-based', 'ADJ'), ('Loews', 'NOUN'), ('Corp.', 'NOUN'), ('that', 'DET'), ('*T*-2', 'X'), ('makes', 'VERB'), ('Kent', 'NOUN'), ('cigarettes', 'NOUN'), (',', '.'), ('stopped', 'VERB'), ('using', 'VERB'), ('crocidolite', 'NOUN'), ('in', 'ADP'), ('its', 'PRON'), ('Micronite', 'NOUN'), ('cigarette', 'NOUN'), ('filters', 'NOUN'), ('in', 'ADP'), ('1956', 'NUM'), ('.', '.')], [('Although', 'ADP'), ('preliminary', 'ADJ'), ('findings', 'NOUN'), ('were', 'VERB'), ('reported', 'VERB'), ('*-2', 'X'), ('more', 'ADV'), ('than', 'ADP'), ('a', 'DET'), ('year', 'NOUN'), ('ago', 'ADP'), (',', '.'), ('the', 'DET'), ('latest', 'ADJ'), ('results', 'NOUN'), ('appear', 'VERB'), ('in', 'ADP'), ('today', 'NOUN'), (\"'s\", 'PRT'), ('New', 'NOUN'), ('England', 'NOUN'), ('Journal', 'NOUN'), ('of', 'ADP'), ('Medicine', 'NOUN'), (',', '.'), ('a', 'DET'), ('forum', 'NOUN'), ('likely', 'ADJ'), ('*', 'X'), ('to', 'PRT'), ('bring', 'VERB'), ('new', 'ADJ'), ('attention', 'NOUN'), ('to', 'PRT'), ('the', 'DET'), ('problem', 'NOUN'), ('.', '.')], [('A', 'DET'), ('Lorillard', 'NOUN'), ('spokewoman', 'NOUN'), ('said', 'VERB'), (',', '.'), ('``', '.'), ('This', 'DET'), ('is', 'VERB'), ('an', 'DET'), ('old', 'ADJ'), ('story', 'NOUN'), ('.', '.')], [('We', 'PRON'), (\"'re\", 'VERB'), ('talking', 'VERB'), ('about', 'ADP'), ('years', 'NOUN'), ('ago', 'ADP'), ('before', 'ADP'), ('anyone', 'NOUN'), ('heard', 'VERB'), ('of', 'ADP'), ('asbestos', 'NOUN'), ('having', 'VERB'), ('any', 'DET'), ('questionable', 'ADJ'), ('properties', 'NOUN'), ('.', '.')], [('There', 'DET'), ('is', 'VERB'), ('no', 'DET'), ('asbestos', 'NOUN'), ('in', 'ADP'), ('our', 'PRON'), ('products', 'NOUN'), ('now', 'ADV'), ('.', '.'), (\"''\", '.')], [('Neither', 'DET'), ('Lorillard', 'NOUN'), ('nor', 'CONJ'), ('the', 'DET'), ('researchers', 'NOUN'), ('who', 'PRON'), ('*T*-3', 'X'), ('studied', 'VERB'), ('the', 'DET'), ('workers', 'NOUN'), ('were', 'VERB'), ('aware', 'ADJ'), ('of', 'ADP'), ('any', 'DET'), ('research', 'NOUN'), ('on', 'ADP'), ('smokers', 'NOUN'), ('of', 'ADP'), ('the', 'DET'), ('Kent', 'NOUN'), ('cigarettes', 'NOUN'), ('.', '.')], [('``', '.'), ('We', 'PRON'), ('have', 'VERB'), ('no', 'DET'), ('useful', 'ADJ'), ('information', 'NOUN'), ('on', 'ADP'), ('whether', 'ADP'), ('users', 'NOUN'), ('are', 'VERB'), ('at', 'ADP'), ('risk', 'NOUN'), (',', '.'), (\"''\", '.'), ('said', 'VERB'), ('*T*-1', 'X'), ('James', 'NOUN'), ('A.', 'NOUN'), ('Talcott', 'NOUN'), ('of', 'ADP'), ('Boston', 'NOUN'), (\"'s\", 'PRT'), ('Dana-Farber', 'NOUN'), ('Cancer', 'NOUN'), ('Institute', 'NOUN'), ('.', '.')], [('Dr.', 'NOUN'), ('Talcott', 'NOUN'), ('led', 'VERB'), ('a', 'DET'), ('team', 'NOUN'), ('of', 'ADP'), ('researchers', 'NOUN'), ('from', 'ADP'), ('the', 'DET'), ('National', 'NOUN'), ('Cancer', 'NOUN'), ('Institute', 'NOUN'), ('and', 'CONJ'), ('the', 'DET'), ('medical', 'ADJ'), ('schools', 'NOUN'), ('of', 'ADP'), ('Harvard', 'NOUN'), ('University', 'NOUN'), ('and', 'CONJ'), ('Boston', 'NOUN'), ('University', 'NOUN'), ('.', '.')], [('The', 'DET'), ('Lorillard', 'NOUN'), ('spokeswoman', 'NOUN'), ('said', 'VERB'), ('0', 'X'), ('asbestos', 'NOUN'), ('was', 'VERB'), ('used', 'VERB'), ('*-1', 'X'), ('in', 'ADP'), ('``', '.'), ('very', 'ADV'), ('modest', 'ADJ'), ('amounts', 'NOUN'), (\"''\", '.'), ('in', 'ADP'), ('*', 'X'), ('making', 'VERB'), ('paper', 'NOUN'), ('for', 'ADP'), ('the', 'DET'), ('filters', 'NOUN'), ('in', 'ADP'), ('the', 'DET'), ('early', 'ADJ'), ('1950s', 'NUM'), ('and', 'CONJ'), ('replaced', 'VERB'), ('*-1', 'X'), ('with', 'ADP'), ('a', 'DET'), ('different', 'ADJ'), ('type', 'NOUN'), ('of', 'ADP'), ('filter', 'NOUN'), ('in', 'ADP'), ('1956', 'NUM'), ('.', '.')], [('From', 'ADP'), ('1953', 'NUM'), ('to', 'PRT'), ('1955', 'NUM'), (',', '.'), ('9.8', 'NUM'), ('billion', 'NUM'), ('Kent', 'NOUN'), ('cigarettes', 'NOUN'), ('with', 'ADP'), ('the', 'DET'), ('filters', 'NOUN'), ('were', 'VERB'), ('sold', 'VERB'), ('*-3', 'X'), (',', '.'), ('the', 'DET'), ('company', 'NOUN'), ('said', 'VERB'), ('0', 'X'), ('*T*-1', 'X'), ('.', '.')], [('Among', 'ADP'), ('33', 'NUM'), ('men', 'NOUN'), ('who', 'PRON'), ('*T*-4', 'X'), ('worked', 'VERB'), ('closely', 'ADV'), ('with', 'ADP'), ('the', 'DET'), ('substance', 'NOUN'), (',', '.'), ('28', 'NUM'), ('*ICH*-1', 'X'), ('have', 'VERB'), ('died', 'VERB'), ('--', '.'), ('more', 'ADJ'), ('than', 'ADP'), ('three', 'NUM'), ('times', 'NOUN'), ('the', 'DET'), ('expected', 'VERB'), ('number', 'NOUN'), ('.', '.')], [('Four', 'NUM'), ('of', 'ADP'), ('the', 'DET'), ('five', 'NUM'), ('surviving', 'VERB'), ('workers', 'NOUN'), ('have', 'VERB'), ('asbestos-related', 'ADJ'), ('diseases', 'NOUN'), (',', '.'), ('including', 'VERB'), ('three', 'NUM'), ('with', 'ADP'), ('recently', 'ADV'), ('diagnosed', 'VERB'), ('cancer', 'NOUN'), ('.', '.')], [('The', 'DET'), ('total', 'NOUN'), ('of', 'ADP'), ('18', 'NUM'), ('deaths', 'NOUN'), ('from', 'ADP'), ('malignant', 'ADJ'), ('mesothelioma', 'NOUN'), (',', '.'), ('lung', 'NOUN'), ('cancer', 'NOUN'), ('and', 'CONJ'), ('asbestosis', 'NOUN'), ('was', 'VERB'), ('far', 'ADV'), ('higher', 'ADJ'), ('than', 'ADP'), ('*', 'X'), ('expected', 'VERB'), ('*?*', 'X'), (',', '.'), ('the', 'DET'), ('researchers', 'NOUN'), ('said', 'VERB'), ('0', 'X'), ('*T*-1', 'X'), ('.', '.')], [('``', '.'), ('The', 'DET'), ('morbidity', 'NOUN'), ('rate', 'NOUN'), ('is', 'VERB'), ('a', 'DET'), ('striking', 'ADJ'), ('finding', 'NOUN'), ('among', 'ADP'), ('those', 'DET'), ('of', 'ADP'), ('us', 'PRON'), ('who', 'PRON'), ('*T*-5', 'X'), ('study', 'VERB'), ('asbestos-related', 'ADJ'), ('diseases', 'NOUN'), (',', '.'), (\"''\", '.'), ('said', 'VERB'), ('*T*-1', 'X'), ('Dr.', 'NOUN'), ('Talcott', 'NOUN'), ('.', '.')], [('The', 'DET'), ('percentage', 'NOUN'), ('of', 'ADP'), ('lung', 'NOUN'), ('cancer', 'NOUN'), ('deaths', 'NOUN'), ('among', 'ADP'), ('the', 'DET'), ('workers', 'NOUN'), ('at', 'ADP'), ('the', 'DET'), ('West', 'NOUN'), ('Groton', 'NOUN'), (',', '.'), ('Mass.', 'NOUN'), (',', '.'), ('paper', 'NOUN'), ('factory', 'NOUN'), ('appears', 'VERB'), ('*-1', 'X'), ('to', 'PRT'), ('be', 'VERB'), ('the', 'DET'), ('highest', 'ADJ'), ('for', 'ADP'), ('any', 'DET'), ('asbestos', 'NOUN'), ('workers', 'NOUN'), ('studied', 'VERB'), ('*', 'X'), ('in', 'ADP'), ('Western', 'ADJ'), ('industrialized', 'VERB'), ('countries', 'NOUN'), (',', '.'), ('he', 'PRON'), ('said', 'VERB'), ('0', 'X'), ('*T*-2', 'X'), ('.', '.')], [('The', 'DET'), ('plant', 'NOUN'), (',', '.'), ('which', 'DET'), ('*T*-1', 'X'), ('is', 'VERB'), ('owned', 'VERB'), ('*-4', 'X'), ('by', 'ADP'), ('Hollingsworth', 'NOUN'), ('&', 'CONJ'), ('Vose', 'NOUN'), ('Co.', 'NOUN'), (',', '.'), ('was', 'VERB'), ('under', 'ADP'), ('contract', 'NOUN'), ('*ICH*-2', 'X'), ('with', 'ADP'), ('Lorillard', 'NOUN'), ('*', 'X'), ('to', 'PRT'), ('make', 'VERB'), ('the', 'DET'), ('cigarette', 'NOUN'), ('filters', 'NOUN'), ('.', '.')], [('The', 'DET'), ('finding', 'NOUN'), ('probably', 'ADV'), ('will', 'VERB'), ('support', 'VERB'), ('those', 'DET'), ('who', 'PRON'), ('*T*-6', 'X'), ('argue', 'VERB'), ('that', 'ADP'), ('the', 'DET'), ('U.S.', 'NOUN'), ('should', 'VERB'), ('regulate', 'VERB'), ('the', 'DET'), ('class', 'NOUN'), ('of', 'ADP'), ('asbestos', 'NOUN'), ('including', 'VERB'), ('crocidolite', 'NOUN'), ('more', 'ADV'), ('stringently', 'ADV'), ('than', 'ADP'), ('the', 'DET'), ('common', 'ADJ'), ('kind', 'NOUN'), ('of', 'ADP'), ('asbestos', 'NOUN'), (',', '.'), ('chrysotile', 'NOUN'), (',', '.'), ('found', 'VERB'), ('*', 'X'), ('in', 'ADP'), ('most', 'ADJ'), ('schools', 'NOUN'), ('and', 'CONJ'), ('other', 'ADJ'), ('buildings', 'NOUN'), (',', '.'), ('Dr.', 'NOUN'), ('Talcott', 'NOUN'), ('said', 'VERB'), ('0', 'X'), ('*T*-1', 'X'), ('.', '.')], [('The', 'DET'), ('U.S.', 'NOUN'), ('is', 'VERB'), ('one', 'NUM'), ('of', 'ADP'), ('the', 'DET'), ('few', 'ADJ'), ('industrialized', 'VERB'), ('nations', 'NOUN'), ('that', 'DET'), ('*T*-7', 'X'), ('does', 'VERB'), (\"n't\", 'ADV'), ('have', 'VERB'), ('a', 'DET'), ('higher', 'ADJ'), ('standard', 'NOUN'), ('of', 'ADP'), ('regulation', 'NOUN'), ('for', 'ADP'), ('the', 'DET'), ('smooth', 'ADJ'), (',', '.'), ('needle-like', 'ADJ'), ('fibers', 'NOUN'), ('such', 'ADJ'), ('as', 'ADP'), ('crocidolite', 'NOUN'), ('that', 'DET'), ('*T*-1', 'X'), ('are', 'VERB'), ('classified', 'VERB'), ('*-5', 'X'), ('as', 'ADP'), ('amphobiles', 'NOUN'), (',', '.'), ('according', 'VERB'), ('to', 'PRT'), ('Brooke', 'NOUN'), ('T.', 'NOUN'), ('Mossman', 'NOUN'), (',', '.'), ('a', 'DET'), ('professor', 'NOUN'), ('of', 'ADP'), ('pathlogy', 'NOUN'), ('at', 'ADP'), ('the', 'DET'), ('University', 'NOUN'), ('of', 'ADP'), ('Vermont', 'NOUN'), ('College', 'NOUN'), ('of', 'ADP'), ('Medicine', 'NOUN'), ('.', '.')], [('More', 'ADV'), ('common', 'ADJ'), ('chrysotile', 'NOUN'), ('fibers', 'NOUN'), ('are', 'VERB'), ('curly', 'ADJ'), ('and', 'CONJ'), ('are', 'VERB'), ('more', 'ADV'), ('easily', 'ADV'), ('rejected', 'VERB'), ('*-1', 'X'), ('by', 'ADP'), ('the', 'DET'), ('body', 'NOUN'), (',', '.'), ('Dr.', 'NOUN'), ('Mossman', 'NOUN'), ('explained', 'VERB'), ('0', 'X'), ('*T*-2', 'X'), ('.', '.')], [('In', 'ADP'), ('July', 'NOUN'), (',', '.'), ('the', 'DET'), ('Environmental', 'NOUN'), ('Protection', 'NOUN'), ('Agency', 'NOUN'), ('imposed', 'VERB'), ('a', 'DET'), ('gradual', 'ADJ'), ('ban', 'NOUN'), ('on', 'ADP'), ('virtually', 'ADV'), ('all', 'DET'), ('uses', 'NOUN'), ('of', 'ADP'), ('asbestos', 'NOUN'), ('.', '.')], [('By', 'ADP'), ('1997', 'NUM'), (',', '.'), ('almost', 'ADV'), ('all', 'DET'), ('remaining', 'VERB'), ('uses', 'NOUN'), ('of', 'ADP'), ('cancer-causing', 'ADJ'), ('asbestos', 'NOUN'), ('will', 'VERB'), ('be', 'VERB'), ('outlawed', 'VERB'), ('*-6', 'X'), ('.', '.')], [('About', 'ADP'), ('160', 'NUM'), ('workers', 'NOUN'), ('at', 'ADP'), ('a', 'DET'), ('factory', 'NOUN'), ('that', 'DET'), ('*T*-8', 'X'), ('made', 'VERB'), ('paper', 'NOUN'), ('for', 'ADP'), ('the', 'DET'), ('Kent', 'NOUN'), ('filters', 'NOUN'), ('were', 'VERB'), ('exposed', 'VERB'), ('*-7', 'X'), ('to', 'PRT'), ('asbestos', 'NOUN'), ('in', 'ADP'), ('the', 'DET'), ('1950s', 'NUM'), ('.', '.')], [('Areas', 'NOUN'), ('of', 'ADP'), ('the', 'DET'), ('factory', 'NOUN'), ('*ICH*-2', 'X'), ('were', 'VERB'), ('particularly', 'ADV'), ('dusty', 'ADJ'), ('where', 'ADV'), ('the', 'DET'), ('crocidolite', 'NOUN'), ('was', 'VERB'), ('used', 'VERB'), ('*-8', 'X'), ('*T*-1', 'X'), ('.', '.')], [('Workers', 'NOUN'), ('dumped', 'VERB'), ('large', 'ADJ'), ('burlap', 'NOUN'), ('sacks', 'NOUN'), ('of', 'ADP'), ('the', 'DET'), ('imported', 'VERB'), ('material', 'NOUN'), ('into', 'ADP'), ('a', 'DET'), ('huge', 'ADJ'), ('bin', 'NOUN'), (',', '.'), ('poured', 'VERB'), ('in', 'PRT'), ('cotton', 'NOUN'), ('and', 'CONJ'), ('acetate', 'NOUN'), ('fibers', 'NOUN'), ('and', 'CONJ'), ('mechanically', 'ADV'), ('mixed', 'VERB'), ('the', 'DET'), ('dry', 'ADJ'), ('fibers', 'NOUN'), ('in', 'ADP'), ('a', 'DET'), ('process', 'NOUN'), ('used', 'VERB'), ('*', 'X'), ('*', 'X'), ('to', 'PRT'), ('make', 'VERB'), ('filters', 'NOUN'), ('.', '.')], [('Workers', 'NOUN'), ('described', 'VERB'), ('``', '.'), ('clouds', 'NOUN'), ('of', 'ADP'), ('blue', 'ADJ'), ('dust', 'NOUN'), (\"''\", '.'), ('that', 'DET'), ('*T*-1', 'X'), ('hung', 'VERB'), ('over', 'ADP'), ('parts', 'NOUN'), ('of', 'ADP'), ('the', 'DET'), ('factory', 'NOUN'), (',', '.'), ('even', 'ADV'), ('though', 'ADP'), ('exhaust', 'NOUN'), ('fans', 'NOUN'), ('ventilated', 'VERB'), ('the', 'DET'), ('area', 'NOUN'), ('.', '.')], [('``', '.'), ('There', 'DET'), (\"'s\", 'VERB'), ('no', 'DET'), ('question', 'NOUN'), ('that', 'ADP'), ('some', 'DET'), ('of', 'ADP'), ('those', 'DET'), ('workers', 'NOUN'), ('and', 'CONJ'), ('managers', 'NOUN'), ('contracted', 'VERB'), ('asbestos-related', 'ADJ'), ('diseases', 'NOUN'), (',', '.'), (\"''\", '.'), ('said', 'VERB'), ('*T*-1', 'X'), ('Darrell', 'NOUN'), ('Phillips', 'NOUN'), (',', '.'), ('vice', 'NOUN'), ('president', 'NOUN'), ('of', 'ADP'), ('human', 'ADJ'), ('resources', 'NOUN'), ('for', 'ADP'), ('Hollingsworth', 'NOUN'), ('&', 'CONJ'), ('Vose', 'NOUN'), ('.', '.')], [('``', '.'), ('But', 'CONJ'), ('you', 'PRON'), ('have', 'VERB'), ('*-1', 'X'), ('to', 'PRT'), ('recognize', 'VERB'), ('that', 'ADP'), ('these', 'DET'), ('events', 'NOUN'), ('took', 'VERB'), ('place', 'NOUN'), ('35', 'NUM'), ('years', 'NOUN'), ('ago', 'ADP'), ('.', '.')], [('It', 'PRON'), ('has', 'VERB'), ('no', 'DET'), ('bearing', 'NOUN'), ('on', 'ADP'), ('our', 'PRON'), ('work', 'NOUN'), ('force', 'NOUN'), ('today', 'NOUN'), ('.', '.')], [('Yields', 'NOUN'), ('on', 'ADP'), ('money-market', 'ADJ'), ('mutual', 'ADJ'), ('funds', 'NOUN'), ('continued', 'VERB'), ('*-1', 'X'), ('to', 'PRT'), ('slide', 'VERB'), (',', '.'), ('amid', 'ADP'), ('signs', 'NOUN'), ('that', 'ADP'), ('portfolio', 'NOUN'), ('managers', 'NOUN'), ('expect', 'VERB'), ('further', 'ADJ'), ('declines', 'NOUN'), ('in', 'ADP'), ('interest', 'NOUN'), ('rates', 'NOUN'), ('.', '.')], [('The', 'DET'), ('average', 'ADJ'), ('seven-day', 'ADJ'), ('compound', 'NOUN'), ('yield', 'NOUN'), ('of', 'ADP'), ('the', 'DET'), ('400', 'NUM'), ('taxable', 'ADJ'), ('funds', 'NOUN'), ('tracked', 'VERB'), ('*', 'X'), ('by', 'ADP'), ('IBC', 'NOUN'), (\"'s\", 'PRT'), ('Money', 'NOUN'), ('Fund', 'NOUN'), ('Report', 'NOUN'), ('eased', 'VERB'), ('a', 'DET'), ('fraction', 'NOUN'), ('of', 'ADP'), ('a', 'DET'), ('percentage', 'NOUN'), ('point', 'NOUN'), ('to', 'PRT'), ('8.45', 'NUM'), ('%', 'NOUN'), ('from', 'ADP'), ('8.47', 'NUM'), ('%', 'NOUN'), ('for', 'ADP'), ('the', 'DET'), ('week', 'NOUN'), ('ended', 'VERB'), ('Tuesday', 'NOUN'), ('.', '.')], [('Compound', 'NOUN'), ('yields', 'NOUN'), ('assume', 'VERB'), ('reinvestment', 'NOUN'), ('of', 'ADP'), ('dividends', 'NOUN'), ('and', 'CONJ'), ('that', 'ADP'), ('the', 'DET'), ('current', 'ADJ'), ('yield', 'NOUN'), ('continues', 'VERB'), ('for', 'ADP'), ('a', 'DET'), ('year', 'NOUN'), ('.', '.')], [('Average', 'ADJ'), ('maturity', 'NOUN'), ('of', 'ADP'), ('the', 'DET'), ('funds', 'NOUN'), (\"'\", 'PRT'), ('investments', 'NOUN'), ('lengthened', 'VERB'), ('by', 'ADP'), ('a', 'DET'), ('day', 'NOUN'), ('to', 'PRT'), ('41', 'NUM'), ('days', 'NOUN'), (',', '.'), ('the', 'DET'), ('longest', 'ADJ'), ('since', 'ADP'), ('early', 'ADJ'), ('August', 'NOUN'), (',', '.'), ('according', 'VERB'), ('to', 'PRT'), ('Donoghue', 'NOUN'), (\"'s\", 'PRT'), ('.', '.')], [('Longer', 'ADJ'), ('maturities', 'NOUN'), ('are', 'VERB'), ('thought', 'VERB'), ('*-1', 'X'), ('to', 'PRT'), ('indicate', 'VERB'), ('declining', 'VERB'), ('interest', 'NOUN'), ('rates', 'NOUN'), ('because', 'ADP'), ('they', 'PRON'), ('permit', 'VERB'), ('portfolio', 'NOUN'), ('managers', 'NOUN'), ('to', 'PRT'), ('retain', 'VERB'), ('relatively', 'ADV'), ('higher', 'ADJ'), ('rates', 'NOUN'), ('for', 'ADP'), ('a', 'DET'), ('longer', 'ADJ'), ('period', 'NOUN'), ('.', '.')], [('Shorter', 'ADJ'), ('maturities', 'NOUN'), ('are', 'VERB'), ('considered', 'VERB'), ('*-9', 'X'), ('a', 'DET'), ('sign', 'NOUN'), ('of', 'ADP'), ('rising', 'VERB'), ('rates', 'NOUN'), ('because', 'ADP'), ('portfolio', 'NOUN'), ('managers', 'NOUN'), ('can', 'VERB'), ('capture', 'VERB'), ('higher', 'ADJ'), ('rates', 'NOUN'), ('sooner', 'ADV'), ('.', '.')], [('The', 'DET'), ('average', 'ADJ'), ('maturity', 'NOUN'), ('for', 'ADP'), ('funds', 'NOUN'), ('open', 'ADJ'), ('only', 'ADV'), ('to', 'PRT'), ('institutions', 'NOUN'), (',', '.'), ('considered', 'VERB'), ('by', 'ADP'), ('some', 'DET'), ('*', 'X'), ('to', 'PRT'), ('be', 'VERB'), ('a', 'DET'), ('stronger', 'ADJ'), ('indicator', 'NOUN'), ('because', 'ADP'), ('those', 'DET'), ('managers', 'NOUN'), ('watch', 'VERB'), ('the', 'DET'), ('market', 'NOUN'), ('closely', 'ADV'), (',', '.'), ('reached', 'VERB'), ('a', 'DET'), ('high', 'ADJ'), ('point', 'NOUN'), ('for', 'ADP'), ('the', 'DET'), ('year', 'NOUN'), ('--', '.'), ('33', 'NUM'), ('days', 'NOUN'), ('.', '.')]]\n"
     ]
    }
   ],
   "source": [
    "print(nltk_data[:40]) "
   ]
  },
  {
   "cell_type": "code",
   "execution_count": 7,
   "metadata": {
    "scrolled": false
   },
   "outputs": [
    {
     "name": "stdout",
     "output_type": "stream",
     "text": [
      "3718\n",
      "196\n",
      "[[('He', 'PRON'), ('is', 'VERB'), ('an', 'DET'), ('avid', 'ADJ'), ('fan', 'NOUN'), ('of', 'ADP'), ('a', 'DET'), ('proposition', 'NOUN'), ('on', 'ADP'), ('next', 'ADJ'), ('week', 'NOUN'), (\"'s\", 'PRT'), ('ballot', 'NOUN'), ('0', 'X'), ('*', 'X'), ('to', 'PRT'), ('help', 'VERB'), ('*-2', 'X'), ('build', 'VERB'), ('a', 'DET'), ('replacement', 'NOUN'), ('for', 'ADP'), ('Candlestick', 'NOUN'), ('Park', 'NOUN'), ('*T*-1', 'X'), ('.', '.')], [('Traditionally', 'ADV'), (',', '.'), ('the', 'DET'), ('card', 'NOUN'), ('has', 'VERB'), ('been', 'VERB'), ('used', 'VERB'), ('*-66', 'X'), ('mainly', 'ADV'), ('for', 'ADP'), ('travel', 'NOUN'), ('and', 'CONJ'), ('entertainment', 'NOUN'), ('expenses', 'NOUN'), ('.', '.')], [('Big', 'NOUN'), ('Board', 'NOUN'), ('stock', 'NOUN'), ('specialists', 'NOUN'), (',', '.'), ('in', 'ADP'), ('a', 'DET'), ('bold', 'ADJ'), ('palace', 'NOUN'), ('revolt', 'NOUN'), (',', '.'), ('began', 'VERB'), ('shortly', 'ADV'), ('after', 'ADP'), ('Oct.', 'NOUN'), ('13', 'NUM'), ('*-1', 'X'), ('to', 'PRT'), ('telephone', 'VERB'), ('the', 'DET'), ('corporate', 'ADJ'), ('executives', 'NOUN'), ('of', 'ADP'), ('the', 'DET'), ('companies', 'NOUN'), ('whose', 'PRON'), ('stock', 'NOUN'), ('*T*-2', 'X'), ('is', 'VERB'), ('listed', 'VERB'), ('*-71', 'X'), ('on', 'ADP'), ('the', 'DET'), ('Big', 'NOUN'), ('Board', 'NOUN'), ('*-3', 'X'), ('to', 'PRT'), ('have', 'VERB'), ('them', 'PRON'), ('pressure', 'VERB'), ('the', 'DET'), ('exchange', 'NOUN'), ('to', 'PRT'), ('ban', 'VERB'), ('program', 'NOUN'), ('trading', 'NOUN'), ('.', '.')], [('The', 'DET'), ('competition', 'NOUN'), ('has', 'VERB'), ('cultivated', 'VERB'), ('a', 'DET'), ('much', 'ADV'), ('savvier', 'ADJ'), ('consumer', 'NOUN'), ('.', '.')], [('For', 'ADP'), ('their', 'PRON'), ('troubles', 'NOUN'), (',', '.'), ('the', 'DET'), ('banks', 'NOUN'), ('get', 'VERB'), ('a', 'DET'), ('larger', 'ADJ'), ('captive', 'NOUN'), ('audience', 'NOUN'), ('that', 'DET'), ('*T*-204', 'X'), ('is', 'VERB'), ('less', 'ADV'), ('likely', 'ADJ'), ('*-1', 'X'), ('to', 'PRT'), ('move', 'VERB'), ('at', 'ADP'), ('the', 'DET'), ('drop', 'NOUN'), ('of', 'ADP'), ('a', 'DET'), ('rate', 'NOUN'), ('.', '.')], [('The', 'DET'), ('State', 'NOUN'), ('Department', 'NOUN'), ('stressed', 'VERB'), ('the', 'DET'), ('pre-1933', 'ADJ'), ('debts', 'NOUN'), ('as', 'ADP'), ('the', 'DET'), ('key', 'NOUN'), ('to', 'PRT'), ('*', 'X'), ('satisfying', 'VERB'), ('the', 'DET'), ('Johnson', 'NOUN'), ('Act', 'NOUN'), ('.', '.')], [('The', 'DET'), ('figure', 'NOUN'), ('is', 'VERB'), ('currently', 'ADV'), ('about', 'ADV'), ('3.3', 'NUM'), ('%', 'NOUN'), (',', '.'), ('up', 'ADP'), ('from', 'ADP'), ('3.2', 'NUM'), ('%', 'NOUN'), ('before', 'ADP'), ('the', 'DET'), ('recent', 'ADJ'), ('market', 'NOUN'), ('slide', 'NOUN'), ('.', '.')], [('``', '.'), ('I', 'PRON'), ('think', 'VERB'), ('0', 'X'), ('program', 'NOUN'), ('trading', 'NOUN'), ('is', 'VERB'), ('basically', 'ADV'), ('unfair', 'ADJ'), ('to', 'PRT'), ('the', 'DET'), ('individual', 'ADJ'), ('investor', 'NOUN'), (',', '.'), (\"''\", '.'), ('says', 'VERB'), ('*T*-1', 'X'), ('Leo', 'NOUN'), ('Fields', 'NOUN'), (',', '.'), ('a', 'DET'), ('Dallas', 'NOUN'), ('investor', 'NOUN'), ('.', '.')], [('The', 'DET'), ('two', 'NUM'), ('professors', 'NOUN'), ('said', 'VERB'), ('0', 'X'), ('the', 'DET'), ('Constitution', 'NOUN'), ('authorizes', 'VERB'), ('the', 'DET'), ('president', 'NOUN'), ('to', 'PRT'), ('veto', 'VERB'), ('entire', 'ADJ'), ('bills', 'NOUN'), (',', '.'), ('not', 'ADV'), ('partial', 'ADJ'), ('measures', 'NOUN'), ('.', '.')], [('Koizumi', 'NOUN'), ('Sangyo', 'NOUN'), ('Corp', 'NOUN'), ('.', '.'), ('-LRB-', '.'), ('Japan', 'NOUN'), ('-RRB-', '.'), ('--', '.')], [('You', 'PRON'), ('can', 'VERB'), ('even', 'ADV'), ('take', 'VERB'), ('notes', 'NOUN'), ('--', '.'), ('extensive', 'ADJ'), ('notes', 'NOUN'), (',', '.'), ('for', 'ADP'), ('the', 'DET'), ('Voice', 'NOUN'), ('folks', 'NOUN'), ('wo', 'VERB'), (\"n't\", 'ADV'), ('look', 'VERB'), ('over', 'ADP'), ('your', 'PRON'), ('shoulder', 'NOUN'), ('--', '.'), ('about', 'ADP'), ('what', 'PRON'), ('you', 'PRON'), ('read', 'VERB'), ('*T*-1', 'X'), ('.', '.')], [('Mr.', 'NOUN'), ('Driscoll', 'NOUN'), ('did', 'VERB'), (\"n't\", 'ADV'), ('elaborate', 'ADJ'), ('about', 'ADP'), ('who', 'PRON'), ('the', 'DET'), ('potential', 'ADJ'), ('partners', 'NOUN'), ('were', 'VERB'), ('*T*-1', 'X'), ('or', 'CONJ'), ('when', 'ADV'), ('the', 'DET'), ('talks', 'NOUN'), ('were', 'VERB'), ('held', 'VERB'), ('*-94', 'X'), ('*T*-2', 'X'), ('.', '.')], [('Mr.', 'NOUN'), ('Yamamoto', 'NOUN'), ('insisted', 'VERB'), ('that', 'ADP'), ('headquarters', 'NOUN'), ('had', 'VERB'), (\"n't\", 'ADV'), ('approved', 'VERB'), ('the', 'DET'), ('bids', 'NOUN'), (',', '.'), ('and', 'CONJ'), ('that', 'ADP'), ('he', 'PRON'), ('did', 'VERB'), (\"n't\", 'ADV'), ('know', 'VERB'), ('about', 'ADP'), ('most', 'ADJ'), ('of', 'ADP'), ('the', 'DET'), ('cases', 'NOUN'), ('until', 'ADP'), ('Wednesday', 'NOUN'), ('.', '.')], [('Campbell', 'NOUN'), ('said', 'VERB'), ('0', 'X'), ('Mr.', 'NOUN'), ('McGovern', 'NOUN'), ('had', 'VERB'), ('withdrawn', 'VERB'), ('his', 'PRON'), ('name', 'NOUN'), ('as', 'ADP'), ('a', 'DET'), ('candidate', 'NOUN'), ('for', 'ADP'), ('re-election', 'NOUN'), ('as', 'ADP'), ('a', 'DET'), ('director', 'NOUN'), ('at', 'ADP'), ('the', 'DET'), ('annual', 'ADJ'), ('shareholder', 'NOUN'), ('meeting', 'NOUN'), (',', '.'), ('scheduled', 'VERB'), ('*', 'X'), ('for', 'ADP'), ('Nov.', 'NOUN'), ('17', 'NUM'), ('.', '.')], [('``', '.'), ('They', 'PRON'), ('got', 'VERB'), ('us', 'PRON'), ('thinking', 'VERB'), ('0', 'X'), ('maybe', 'ADV'), ('we', 'PRON'), ('should', 'VERB'), ('be', 'VERB'), ('helping', 'VERB'), ('U.S.', 'NOUN'), ('companies', 'NOUN'), ('improve', 'VERB'), ('existing', 'VERB'), ('products', 'NOUN'), ('rather', 'ADV'), ('than', 'ADP'), ('*-1', 'X'), ('always', 'ADV'), ('developing', 'VERB'), ('new', 'ADJ'), ('ones', 'NOUN'), ('.', '.'), (\"''\", '.')], [('*-1', 'X'), ('Taking', 'VERB'), ('over', 'PRT'), ('as', 'ADV'), ('chief', 'NOUN'), ('executive', 'ADJ'), ('officer', 'NOUN'), ('in', 'ADP'), ('1983', 'NUM'), (',', '.'), ('he', 'PRON'), ('inherited', 'VERB'), ('a', 'DET'), ('company', 'NOUN'), ('that', 'DET'), ('*T*-6', 'X'), ('was', 'VERB'), ('mired', 'VERB'), ('*-2', 'X'), ('in', 'ADP'), ('debt', 'NOUN'), ('and', 'CONJ'), ('hurt', 'VERB'), ('*-2', 'X'), ('by', 'ADP'), ('a', 'DET'), ('recession-inspired', 'ADJ'), ('slide', 'NOUN'), ('in', 'ADP'), ('its', 'PRON'), ('building-products', 'NOUN'), ('business', 'NOUN'), ('.', '.')], [('Dividend', 'NOUN'), ('growth', 'NOUN'), ('on', 'ADP'), ('the', 'DET'), ('order', 'NOUN'), ('of', 'ADP'), ('12', 'NUM'), ('%', 'NOUN'), ('is', 'VERB'), ('expected', 'VERB'), ('*-142', 'X'), ('by', 'ADP'), ('both', 'DET'), ('Mr.', 'NOUN'), ('Coxon', 'NOUN'), ('of', 'ADP'), ('Cigna', 'NOUN'), ('and', 'CONJ'), ('Mr.', 'NOUN'), ('Einhorn', 'NOUN'), ('of', 'ADP'), ('Goldman', 'NOUN'), ('Sachs', 'NOUN'), ('.', '.')], [('The', 'DET'), ('ultimate', 'ADJ'), ('result', 'NOUN'), ('came', 'VERB'), ('in', 'ADP'), ('Hymowitz', 'NOUN'), ('v.', 'CONJ'), ('Lilly', 'NOUN'), (',', '.'), ('where', 'ADV'), ('the', 'DET'), ('highest', 'ADJ'), ('New', 'NOUN'), ('York', 'NOUN'), ('court', 'NOUN'), ('expanded', 'VERB'), ('the', 'DET'), ('market-share', 'ADJ'), ('approach', 'NOUN'), ('for', 'ADP'), ('the', 'DET'), ('first', 'ADJ'), ('time', 'NOUN'), ('*', 'X'), ('to', 'PRT'), ('say', 'VERB'), ('that', 'ADP'), ('drug', 'NOUN'), ('makers', 'NOUN'), ('that', 'DET'), ('*T*-1', 'X'), ('could', 'VERB'), ('prove', 'VERB'), ('0', 'X'), ('Mindy', 'NOUN'), ('Hymowitz', 'NOUN'), (\"'s\", 'PRT'), ('mother', 'NOUN'), ('did', 'VERB'), (\"n't\", 'ADV'), ('use', 'VERB'), ('their', 'PRON'), ('pill', 'NOUN'), ('must', 'VERB'), ('still', 'ADV'), ('pay', 'VERB'), ('their', 'PRON'), ('share', 'NOUN'), ('of', 'ADP'), ('any', 'DET'), ('damages', 'NOUN'), ('*T*-2', 'X'), ('.', '.')], [('The', 'DET'), ('discount', 'NOUN'), ('rate', 'NOUN'), ('on', 'ADP'), ('three-month', 'ADJ'), ('Treasury', 'NOUN'), ('bills', 'NOUN'), ('was', 'VERB'), ('essentially', 'ADV'), ('unchanged', 'ADJ'), ('at', 'ADP'), ('7.79', 'NUM'), ('%', 'NOUN'), (',', '.'), ('while', 'ADP'), ('the', 'DET'), ('rate', 'NOUN'), ('on', 'ADP'), ('six-month', 'ADJ'), ('bills', 'NOUN'), ('was', 'VERB'), ('slightly', 'ADV'), ('lower', 'ADJ'), ('at', 'ADP'), ('7.52', 'NUM'), ('%', 'NOUN'), ('compared', 'VERB'), ('with', 'ADP'), ('7.60', 'NUM'), ('%', 'NOUN'), ('Tuesday', 'NOUN'), ('.', '.')], [('An', 'DET'), ('exhibition', 'NOUN'), ('of', 'ADP'), ('American', 'ADJ'), ('design', 'NOUN'), ('and', 'CONJ'), ('architecture', 'NOUN'), ('opened', 'VERB'), ('in', 'ADP'), ('September', 'NOUN'), ('in', 'ADP'), ('Moscow', 'NOUN'), ('and', 'CONJ'), ('will', 'VERB'), ('travel', 'VERB'), ('to', 'PRT'), ('eight', 'NUM'), ('other', 'ADJ'), ('Soviet', 'ADJ'), ('cities', 'NOUN'), ('.', '.')], [('When', 'ADV'), ('it', 'PRON'), ('occurs', 'VERB'), ('*T*-1', 'X'), (',', '.'), ('the', 'DET'), ('traders', 'NOUN'), ('place', 'VERB'), ('orders', 'NOUN'), ('*ICH*-2', 'X'), ('via', 'ADP'), ('computers', 'NOUN'), ('*', 'X'), ('to', 'PRT'), ('buy', 'VERB'), ('the', 'DET'), ('basket', 'NOUN'), ('of', 'ADP'), ('stocks', 'NOUN'), ('-LRB-', '.'), ('such', 'ADJ'), ('as', 'ADP'), ('the', 'DET'), ('500', 'NUM'), ('stocks', 'NOUN'), ('that', 'DET'), ('*T*-3', 'X'), ('constitute', 'VERB'), ('the', 'DET'), ('Standard', 'NOUN'), ('&', 'CONJ'), ('Poor', 'NOUN'), (\"'s\", 'PRT'), ('500', 'NUM'), ('stock', 'NOUN'), ('index', 'NOUN'), ('-RRB-', '.'), ('in', 'ADP'), ('whichever', 'DET'), ('market', 'NOUN'), ('*T*-4', 'X'), ('is', 'VERB'), ('cheaper', 'ADJ'), ('and', 'CONJ'), ('sell', 'VERB'), ('them', 'PRON'), ('in', 'ADP'), ('the', 'DET'), ('more', 'ADV'), ('expensive', 'ADJ'), ('market', 'NOUN'), (';', '.'), ('they', 'PRON'), ('lock', 'VERB'), ('in', 'PRT'), ('the', 'DET'), ('difference', 'NOUN'), ('in', 'ADP'), ('price', 'NOUN'), ('as', 'ADP'), ('profit', 'NOUN'), ('.', '.')], [('The', 'DET'), ('nonprofit', 'ADJ'), (',', '.'), ('industry-supported', 'ADJ'), ('group', 'NOUN'), ('said', 'VERB'), ('0', 'X'), ('its', 'PRON'), ('Consumer', 'NOUN'), ('Confidence', 'NOUN'), ('Index', 'NOUN'), ('was', 'VERB'), ('116.4', 'NUM'), ('in', 'ADP'), ('October', 'NOUN'), (',', '.'), ('*-1', 'X'), ('barely', 'ADV'), ('changed', 'VERB'), ('*-2', 'X'), ('from', 'ADP'), ('a', 'DET'), ('revised', 'VERB'), ('116.3', 'NUM'), ('in', 'ADP'), ('September', 'NOUN'), ('.', '.')], [('Fees', 'NOUN'), ('1', 'NUM'), ('3\\\\/4', 'NUM'), ('.', '.')], [('The', 'DET'), ('loudest', 'ADJ'), ('of', 'ADP'), ('these', 'DET'), ('reformers', 'NOUN'), ('are', 'VERB'), ('money', 'NOUN'), ('managers', 'NOUN'), ('who', 'PRON'), ('*T*-77', 'X'), ('cater', 'VERB'), ('to', 'PRT'), ('smaller', 'ADJ'), ('investors', 'NOUN'), ('.', '.')], [('Analysts', 'NOUN'), ('noted', 'VERB'), ('yesterday', 'NOUN'), ('that', 'ADP'), ('Cray', 'NOUN'), ('Research', 'NOUN'), (\"'s\", 'PRT'), ('decision', 'NOUN'), ('*', 'X'), ('to', 'PRT'), ('link', 'VERB'), ('its', 'PRON'), ('$', '.'), ('98.3', 'NUM'), ('million', 'NUM'), ('*U*', 'X'), ('promissory', 'ADJ'), ('note', 'NOUN'), ('to', 'PRT'), ('Mr.', 'NOUN'), ('Cray', 'NOUN'), (\"'s\", 'PRT'), ('presence', 'NOUN'), ('will', 'VERB'), ('complicate', 'VERB'), ('a', 'DET'), ('valuation', 'NOUN'), ('of', 'ADP'), ('the', 'DET'), ('new', 'ADJ'), ('company', 'NOUN'), ('.', '.')], [('Corporate', 'ADJ'), ('lawyers', 'NOUN'), ('said', 'VERB'), ('0', 'X'), ('the', 'DET'), ('new', 'ADJ'), ('fees', 'NOUN'), ('would', 'VERB'), (\"n't\", 'ADV'), ('inhibit', 'VERB'), ('many', 'ADJ'), ('mergers', 'NOUN'), ('or', 'CONJ'), ('other', 'ADJ'), ('transactions', 'NOUN'), ('.', '.')], [('The', 'DET'), ('warrants', 'NOUN'), ('expire', 'VERB'), ('Nov.', 'NOUN'), ('30', 'NUM'), (',', '.'), ('1990', 'NUM'), ('.', '.')], [('One', 'NUM'), ('clear', 'ADJ'), ('sign', 'NOUN'), ('of', 'ADP'), ('Japan', 'NOUN'), (\"'s\", 'PRT'), ('nervousness', 'NOUN'), ('came', 'VERB'), ('this', 'DET'), ('week', 'NOUN'), (',', '.'), ('when', 'ADV'), ('a', 'DET'), ('spokesman', 'NOUN'), ('for', 'ADP'), ('Japan', 'NOUN'), (\"'s\", 'PRT'), ('Foreign', 'NOUN'), ('Ministry', 'NOUN'), ('devoted', 'VERB'), ('nearly', 'ADV'), ('all', 'DET'), ('of', 'ADP'), ('a', 'DET'), ('regular', 'ADJ'), (',', '.'), ('half-hour', 'ADJ'), ('briefing', 'NOUN'), ('for', 'ADP'), ('foreign', 'ADJ'), ('journalists', 'NOUN'), ('to', 'PRT'), ('the', 'DET'), ('subject', 'NOUN'), ('of', 'ADP'), ('recent', 'ADJ'), ('Japanese', 'ADJ'), ('investments', 'NOUN'), ('in', 'ADP'), ('the', 'DET'), ('U.S.', 'NOUN'), ('*T*-1', 'X'), ('.', '.')], [('The', 'DET'), ('Chicago', 'NOUN'), ('Mercantile', 'NOUN'), ('Exchange', 'NOUN'), ('said', 'VERB'), ('0', 'X'), ('it', 'PRON'), ('plans', 'VERB'), ('*-1', 'X'), ('to', 'PRT'), ('institute', 'VERB'), ('an', 'DET'), ('additional', 'ADJ'), ('``', '.'), ('circuit', 'NOUN'), ('breaker', 'NOUN'), (\"''\", '.'), ('aimed', 'VERB'), ('*', 'X'), ('at', 'ADP'), ('*', 'X'), ('stemming', 'VERB'), ('market', 'NOUN'), ('slides', 'NOUN'), ('.', '.')], [('``', '.'), ('Just', 'ADV'), ('a', 'DET'), ('blind', 'ADJ'), ('fear', 'NOUN'), ('of', 'ADP'), ('the', 'DET'), ('unknown', 'NOUN'), ('is', 'VERB'), ('causing', 'VERB'), ('them', 'PRON'), ('to', 'PRT'), ('beg', 'VERB'), ('the', 'DET'), ('regulators', 'NOUN'), ('for', 'ADP'), ('protection', 'NOUN'), ('.', '.'), (\"''\", '.')], [('Peter', 'NOUN'), ('Anthony', 'NOUN'), (',', '.'), ('who', 'PRON'), ('*T*-1', 'X'), ('runs', 'VERB'), ('an', 'DET'), ('employment', 'NOUN'), ('agency', 'NOUN'), ('in', 'ADP'), ('New', 'NOUN'), ('York', 'NOUN'), (',', '.'), ('decries', 'VERB'), ('program', 'NOUN'), ('trading', 'NOUN'), ('as', 'ADP'), ('``', '.'), ('*', 'X'), ('limiting', 'VERB'), ('the', 'DET'), ('game', 'NOUN'), ('to', 'PRT'), ('a', 'DET'), ('few', 'ADJ'), (',', '.'), (\"''\", '.'), ('but', 'CONJ'), ('he', 'PRON'), ('also', 'ADV'), ('is', 'VERB'), (\"n't\", 'ADV'), ('sure', 'ADJ'), ('0', 'X'), ('it', 'PRON'), ('should', 'VERB'), ('be', 'VERB'), ('more', 'ADV'), ('strictly', 'ADV'), ('regulated', 'VERB'), ('*-2', 'X'), ('.', '.')], [('The', 'DET'), ('announced', 'VERB'), ('sale', 'NOUN'), ('of', 'ADP'), ('the', 'DET'), ('reserves', 'NOUN'), ('was', 'VERB'), ('followed', 'VERB'), ('*-1', 'X'), ('by', 'ADP'), ('news', 'NOUN'), ('that', 'ADP'), ('investor', 'NOUN'), ('Carl', 'NOUN'), ('Icahn', 'NOUN'), ('had', 'VERB'), ('increased', 'VERB'), ('his', 'PRON'), ('stake', 'NOUN'), ('in', 'ADP'), ('USX', 'NOUN'), ('to', 'PRT'), ('13.1', 'NUM'), ('%', 'NOUN'), ('and', 'CONJ'), ('threatened', 'VERB'), ('a', 'DET'), ('takeover', 'NOUN'), ('or', 'CONJ'), ('other', 'ADJ'), ('business', 'NOUN'), ('combination', 'NOUN'), ('.', '.')], [('ENERGY', 'NOUN'), (':', '.'), ('Crude', 'ADJ'), ('oil', 'NOUN'), ('futures', 'NOUN'), ('prices', 'NOUN'), ('increased', 'VERB'), ('in', 'ADP'), ('moderate', 'ADJ'), ('trading', 'NOUN'), (',', '.'), ('but', 'CONJ'), ('much', 'ADJ'), ('of', 'ADP'), ('the', 'DET'), ('action', 'NOUN'), ('was', 'VERB'), ('in', 'ADP'), ('heating', 'NOUN'), ('oil', 'NOUN'), ('.', '.')], [('``', '.'), ('You', 'PRON'), ('either', 'ADV'), ('believe', 'VERB'), ('0', 'X'), ('Seymour', 'NOUN'), ('can', 'VERB'), ('do', 'VERB'), ('it', 'PRON'), ('again', 'ADV'), ('or', 'CONJ'), ('you', 'PRON'), ('do', 'VERB'), (\"n't\", 'ADV'), ('*?*', 'X'), ('.', '.'), (\"''\", '.')], [('They', 'PRON'), ('belong', 'VERB'), ('to', 'PRT'), ('a', 'DET'), ('group', 'NOUN'), ('of', 'ADP'), ('15', 'NUM'), ('ringers', 'NOUN'), ('--', '.'), ('including', 'VERB'), ('two', 'NUM'), ('octogenarians', 'NOUN'), ('and', 'CONJ'), ('four', 'NUM'), ('youngsters', 'NOUN'), ('in', 'ADP'), ('training', 'NOUN'), ('--', '.'), ('who', 'PRON'), ('*T*-222', 'X'), ('drive', 'VERB'), ('every', 'DET'), ('Sunday', 'NOUN'), ('from', 'ADP'), ('church', 'NOUN'), ('to', 'PRT'), ('church', 'NOUN'), ('in', 'ADP'), ('a', 'DET'), ('sometimes-exhausting', 'ADJ'), ('effort', 'NOUN'), ('*', 'X'), ('to', 'PRT'), ('keep', 'VERB'), ('the', 'DET'), ('bells', 'NOUN'), ('sounding', 'VERB'), ('in', 'ADP'), ('the', 'DET'), ('many', 'ADJ'), ('belfries', 'NOUN'), ('of', 'ADP'), ('East', 'NOUN'), ('Anglia', 'NOUN'), ('.', '.')], [('She', 'PRON'), ('won', 'VERB'), ('grant', 'NOUN'), ('money', 'NOUN'), ('for', 'ADP'), ('the', 'DET'), ('school', 'NOUN'), (',', '.'), ('advised', 'VERB'), ('cheerleaders', 'NOUN'), (',', '.'), ('ran', 'VERB'), ('the', 'DET'), ('pep', 'NOUN'), ('club', 'NOUN'), (',', '.'), ('proposed', 'VERB'), ('and', 'CONJ'), ('taught', 'VERB'), ('a', 'DET'), ('new', 'ADJ'), ('``', '.'), ('Cultural', 'ADJ'), ('Literacy', 'NOUN'), (\"''\", '.'), ('class', 'NOUN'), ('in', 'ADP'), ('Western', 'ADJ'), ('Civilization', 'NOUN'), ('and', 'CONJ'), ('was', 'VERB'), ('chosen', 'VERB'), ('*-1', 'X'), ('by', 'ADP'), ('the', 'DET'), ('school', 'NOUN'), ('PTA', 'NOUN'), ('as', 'ADP'), ('``', '.'), ('Teacher', 'NOUN'), ('of', 'ADP'), ('the', 'DET'), ('Year', 'NOUN'), ('.', '.'), (\"''\", '.')], [('It', 'PRON'), ('*EXP*-3', 'X'), (\"'s\", 'VERB'), ('probably', 'ADV'), ('true', 'ADJ'), ('that', 'ADP'), ('many', 'ADJ'), ('salarymen', 'NOUN'), ('put', 'VERB'), ('in', 'PRT'), ('unproductive', 'ADJ'), ('overtime', 'NOUN'), ('just', 'ADV'), ('for', 'ADP'), ('the', 'DET'), ('sake', 'NOUN'), ('of', 'ADP'), ('solidarity', 'NOUN'), (',', '.'), ('that', 'ADP'), ('the', 'DET'), ('system', 'NOUN'), ('is', 'VERB'), ('so', 'ADV'), ('hierarchical', 'ADJ'), ('that', 'ADP'), ('only', 'ADV'), ('the', 'DET'), ('assistant', 'ADJ'), ('manager', 'NOUN'), ('can', 'VERB'), ('talk', 'VERB'), ('to', 'PRT'), ('the', 'DET'), ('manager', 'NOUN'), ('and', 'CONJ'), ('the', 'DET'), ('manager', 'NOUN'), ('to', 'PRT'), ('the', 'DET'), ('general', 'ADJ'), ('manager', 'NOUN'), (',', '.'), ('and', 'CONJ'), ('that', 'ADP'), ('Sony', 'NOUN'), ('was', 'VERB'), ('chary', 'ADJ'), ('of', 'ADP'), ('*-4', 'X'), ('letting', 'VERB'), ('a', 'DET'), ('young', 'ADJ'), (',', '.'), ('short-term', 'ADJ'), ('American', 'ADJ'), ('employee', 'NOUN'), ('take', 'VERB'), ('on', 'PRT'), ('any', 'DET'), ('responsibility', 'NOUN'), ('.', '.')], [('But', 'CONJ'), ('a', 'DET'), ('1948', 'NUM'), ('law', 'NOUN'), ('barred', 'VERB'), ('the', 'DET'), ('``', '.'), ('dissemination', 'NOUN'), (\"''\", '.'), ('of', 'ADP'), ('that', 'DET'), ('material', 'NOUN'), ('in', 'ADP'), ('the', 'DET'), ('U.S.', 'NOUN'), ('.', '.')], [('Jim', 'NOUN'), ('Enzor', 'NOUN'), ('of', 'ADP'), ('Atlanta', 'NOUN'), ('defends', 'VERB'), ('program', 'NOUN'), ('trading', 'NOUN'), ('because', 'ADP'), ('he', 'PRON'), ('believes', 'VERB'), ('that', 'ADP'), ('it', 'PRON'), ('can', 'VERB'), ('bring', 'VERB'), ('the', 'DET'), ('market', 'NOUN'), ('back', 'ADV'), ('up', 'ADP'), ('after', 'ADP'), ('a', 'DET'), ('plunge', 'NOUN'), ('.', '.')], [('Traders', 'NOUN'), ('profit', 'VERB'), ('by', 'ADP'), ('*-1', 'X'), ('trying', 'VERB'), ('*-2', 'X'), ('to', 'PRT'), ('capture', 'VERB'), ('fleeting', 'ADJ'), ('price', 'NOUN'), ('discrepancies', 'NOUN'), ('between', 'ADP'), ('stocks', 'NOUN'), ('and', 'CONJ'), ('the', 'DET'), ('index', 'NOUN'), ('futures', 'NOUN'), ('or', 'CONJ'), ('options', 'NOUN'), ('.', '.')]]\n"
     ]
    }
   ],
   "source": [
    "random.seed(1234)\n",
    "tr_set, ts_set = train_test_split(nltk_data, test_size=0.05)\n",
    "\n",
    "print(len(tr_set))\n",
    "print(len(ts_set))\n",
    "print(tr_set[:40]) "
   ]
  },
  {
   "cell_type": "code",
   "execution_count": 8,
   "metadata": {},
   "outputs": [
    {
     "data": {
      "text/plain": [
       "95495"
      ]
     },
     "execution_count": 8,
     "metadata": {},
     "output_type": "execute_result"
    }
   ],
   "source": [
    "# Get list of tagged words\n",
    "tr_tagd_wrds = [tup for sent in tr_set for tup in sent] \n",
    "len(tr_tagd_wrds) "
   ]
  },
  {
   "cell_type": "code",
   "execution_count": 9,
   "metadata": {},
   "outputs": [
    {
     "data": {
      "text/plain": [
       "['He',\n",
       " 'is',\n",
       " 'an',\n",
       " 'avid',\n",
       " 'fan',\n",
       " 'of',\n",
       " 'a',\n",
       " 'proposition',\n",
       " 'on',\n",
       " 'next',\n",
       " 'week',\n",
       " \"'s\",\n",
       " 'ballot',\n",
       " '0',\n",
       " '*',\n",
       " 'to',\n",
       " 'help',\n",
       " '*-2',\n",
       " 'build',\n",
       " 'a']"
      ]
     },
     "execution_count": 9,
     "metadata": {},
     "output_type": "execute_result"
    }
   ],
   "source": [
    "# Get tokens\n",
    "tokens = [pair[0] for pair in tr_tagd_wrds] \n",
    "tokens[:20] "
   ]
  },
  {
   "cell_type": "code",
   "execution_count": 10,
   "metadata": {},
   "outputs": [
    {
     "name": "stdout",
     "output_type": "stream",
     "text": [
      "12054\n"
     ]
    }
   ],
   "source": [
    "# Build vocabulary\n",
    "vocab = set(tokens)\n",
    "print(len(vocab)) "
   ]
  },
  {
   "cell_type": "code",
   "execution_count": 11,
   "metadata": {},
   "outputs": [
    {
     "name": "stdout",
     "output_type": "stream",
     "text": [
      "12\n",
      "{'NUM', 'X', 'ADJ', 'PRON', 'PRT', 'DET', 'ADV', 'CONJ', 'ADP', '.', 'NOUN', 'VERB'}\n"
     ]
    }
   ],
   "source": [
    "# Find out the number of tags\n",
    "tgs = set([pair[1] for pair in tr_tagd_wrds])\n",
    "print(len(tgs))\n",
    "print(tgs) "
   ]
  },
  {
   "cell_type": "markdown",
   "metadata": {},
   "source": [
    "There are 12 tags that are a part of the universal tagset."
   ]
  },
  {
   "cell_type": "markdown",
   "metadata": {},
   "source": [
    "### Build the vanilla Viterbi based POS tagger"
   ]
  },
  {
   "cell_type": "code",
   "execution_count": 12,
   "metadata": {},
   "outputs": [],
   "source": [
    "# Create a numpy array of the number of POS tags by total vocabulary\n",
    "T = len(tgs)\n",
    "V = len(vocab)\n",
    "w_given_t = np.zeros((T,V)) "
   ]
  },
  {
   "cell_type": "code",
   "execution_count": 13,
   "metadata": {},
   "outputs": [],
   "source": [
    "# Compute the word given tag emission probability\n",
    "\n",
    "def word_given_tag(word, tag, train_bag = tr_tagd_wrds):\n",
    "    tg_list = [pair for pair in train_bag if pair[1] == tag]\n",
    "    count_tg = len(tg_list)\n",
    "    w_given_tg_list = [pair[0] for pair in tg_list if pair[0] == word]\n",
    "    count_w_given_tg = len(w_given_tg_list)\n",
    "    \n",
    "    return (count_w_given_tg, count_tg) "
   ]
  },
  {
   "cell_type": "code",
   "execution_count": 14,
   "metadata": {},
   "outputs": [],
   "source": [
    "# Compute the tag given tag: tag2(t2) given tag1(t1) i.e. Tranition probability\n",
    "\n",
    "def t2_given_t1(t2, t1, train_bag = tr_tagd_wrds):\n",
    "    tgs = [pair[1] for pair in train_bag]\n",
    "    count_t1 = len([t for t in tgs if t == t1])\n",
    "    count_t2_t1 = 0\n",
    "    for index in range(len(tgs) - 1):\n",
    "        if tgs[index] == t1 and tgs[index+1] == t2:\n",
    "            count_t2_t1 += 1\n",
    "    return (count_t2_t1, count_t1) "
   ]
  },
  {
   "cell_type": "markdown",
   "metadata": {},
   "source": [
    "Create a txt (POS tags x POS tags) transition matrix of tags where each column is t2 and each row is t1. Thus, $M(i,j)$ represents $P(t_j|t_i)$.    "
   ]
  },
  {
   "cell_type": "code",
   "execution_count": 15,
   "metadata": {},
   "outputs": [
    {
     "name": "stdout",
     "output_type": "stream",
     "text": [
      "[[1.86350152e-01 2.11572707e-01 3.32344212e-02 1.48367952e-03\n",
      "  2.61127595e-02 2.96735903e-03 2.96735903e-03 1.24629084e-02\n",
      "  3.20474766e-02 1.17210686e-01 3.56379837e-01 1.72106829e-02]\n",
      " [2.85895797e-03 7.54447281e-02 1.65184252e-02 5.55908531e-02\n",
      "  1.83926299e-01 5.35260476e-02 2.55717915e-02 1.04828458e-02\n",
      "  1.43583223e-01 1.64707750e-01 6.30559102e-02 2.04733163e-01]\n",
      " [2.11535282e-02 2.13187896e-02 6.64352998e-02 6.61047758e-04\n",
      "  1.09072877e-02 4.95785801e-03 4.79259621e-03 1.65261943e-02\n",
      "  7.84994215e-02 6.49479404e-02 6.98066413e-01 1.17335981e-02]\n",
      " [7.29086716e-03 9.28626284e-02 7.29086697e-02 7.29086716e-03\n",
      "  1.30468151e-02 9.59324650e-03 3.49194184e-02 5.37221786e-03\n",
      "  2.26400606e-02 3.95241752e-02 2.09132776e-01 4.85418260e-01]\n",
      " [5.81319407e-02 1.40431095e-02 8.39320719e-02 1.76355317e-02\n",
      "  1.95950363e-03 1.02220774e-01 1.04506854e-02 2.28608749e-03\n",
      "  2.09013708e-02 4.24559116e-02 2.46897459e-01 3.99085552e-01]\n",
      " [2.21281741e-02 4.47400250e-02 2.06045955e-01 3.74848861e-03\n",
      "  1.20918987e-04 5.44135412e-03 1.28174126e-02 3.62756953e-04\n",
      "  9.43168066e-03 1.74123328e-02 6.38452232e-01 3.92986685e-02]\n",
      " [3.10949385e-02 2.28250083e-02 1.27356932e-01 1.52166719e-02\n",
      "  1.38934832e-02 6.88058212e-02 8.03837255e-02 6.94674160e-03\n",
      "  1.20079391e-01 1.36619255e-01 3.14257368e-02 3.45352292e-01]\n",
      " [4.09302339e-02 8.37209262e-03 1.16279073e-01 5.90697676e-02\n",
      "  4.65116277e-03 1.20465115e-01 5.44186048e-02 4.65116289e-04\n",
      "  5.34883738e-02 3.53488363e-02 3.49302322e-01 1.57209307e-01]\n",
      " [6.26673773e-02 3.57793234e-02 1.05195500e-01 7.03802928e-02\n",
      "  1.49973214e-03 3.22870910e-01 1.32833421e-02 8.56989820e-04\n",
      "  1.72469206e-02 4.00642753e-02 3.21585417e-01 8.56989808e-03]\n",
      " [8.13220441e-02 2.72874646e-02 4.37680110e-02 6.59221932e-02\n",
      "  2.25144089e-03 1.74081415e-01 5.24135455e-02 5.80871776e-02\n",
      "  9.10482705e-02 9.32096541e-02 2.21631840e-01 8.88868868e-02]\n",
      " [9.31506883e-03 2.93333326e-02 1.22374427e-02 4.63926932e-03\n",
      "  4.40547951e-02 1.31506845e-02 1.73881277e-02 4.27762568e-02\n",
      "  1.76292241e-01 2.39415526e-01 2.64840186e-01 1.46557078e-01]\n",
      " [2.26406287e-02 2.17614561e-01 6.56656027e-02 3.52446884e-02\n",
      "  3.20547745e-02 1.35065749e-01 8.18485990e-02 5.60180517e-03\n",
      "  9.11071375e-02 3.50112803e-02 1.09935425e-01 1.68209761e-01]]\n"
     ]
    }
   ],
   "source": [
    "tgs_matrix = np.zeros((len(tgs), len(tgs)), dtype = 'float32')\n",
    "for i, t1 in enumerate(list(tgs)):\n",
    "    for j, t2 in enumerate(list(tgs)):\n",
    "        tgs_matrix[i,j] = t2_given_t1(t2, t1)[0]/t2_given_t1(t2, t1)[1] \n",
    "        \n",
    "print(tgs_matrix) "
   ]
  },
  {
   "cell_type": "code",
   "execution_count": 16,
   "metadata": {},
   "outputs": [
    {
     "data": {
      "text/html": [
       "<div>\n",
       "<style scoped>\n",
       "    .dataframe tbody tr th:only-of-type {\n",
       "        vertical-align: middle;\n",
       "    }\n",
       "\n",
       "    .dataframe tbody tr th {\n",
       "        vertical-align: top;\n",
       "    }\n",
       "\n",
       "    .dataframe thead th {\n",
       "        text-align: right;\n",
       "    }\n",
       "</style>\n",
       "<table border=\"1\" class=\"dataframe\">\n",
       "  <thead>\n",
       "    <tr style=\"text-align: right;\">\n",
       "      <th></th>\n",
       "      <th>NUM</th>\n",
       "      <th>X</th>\n",
       "      <th>ADJ</th>\n",
       "      <th>PRON</th>\n",
       "      <th>PRT</th>\n",
       "      <th>DET</th>\n",
       "      <th>ADV</th>\n",
       "      <th>CONJ</th>\n",
       "      <th>ADP</th>\n",
       "      <th>.</th>\n",
       "      <th>NOUN</th>\n",
       "      <th>VERB</th>\n",
       "    </tr>\n",
       "  </thead>\n",
       "  <tbody>\n",
       "    <tr>\n",
       "      <th>NUM</th>\n",
       "      <td>0.186350</td>\n",
       "      <td>0.211573</td>\n",
       "      <td>0.033234</td>\n",
       "      <td>0.001484</td>\n",
       "      <td>0.026113</td>\n",
       "      <td>0.002967</td>\n",
       "      <td>0.002967</td>\n",
       "      <td>0.012463</td>\n",
       "      <td>0.032047</td>\n",
       "      <td>0.117211</td>\n",
       "      <td>0.356380</td>\n",
       "      <td>0.017211</td>\n",
       "    </tr>\n",
       "    <tr>\n",
       "      <th>X</th>\n",
       "      <td>0.002859</td>\n",
       "      <td>0.075445</td>\n",
       "      <td>0.016518</td>\n",
       "      <td>0.055591</td>\n",
       "      <td>0.183926</td>\n",
       "      <td>0.053526</td>\n",
       "      <td>0.025572</td>\n",
       "      <td>0.010483</td>\n",
       "      <td>0.143583</td>\n",
       "      <td>0.164708</td>\n",
       "      <td>0.063056</td>\n",
       "      <td>0.204733</td>\n",
       "    </tr>\n",
       "    <tr>\n",
       "      <th>ADJ</th>\n",
       "      <td>0.021154</td>\n",
       "      <td>0.021319</td>\n",
       "      <td>0.066435</td>\n",
       "      <td>0.000661</td>\n",
       "      <td>0.010907</td>\n",
       "      <td>0.004958</td>\n",
       "      <td>0.004793</td>\n",
       "      <td>0.016526</td>\n",
       "      <td>0.078499</td>\n",
       "      <td>0.064948</td>\n",
       "      <td>0.698066</td>\n",
       "      <td>0.011734</td>\n",
       "    </tr>\n",
       "    <tr>\n",
       "      <th>PRON</th>\n",
       "      <td>0.007291</td>\n",
       "      <td>0.092863</td>\n",
       "      <td>0.072909</td>\n",
       "      <td>0.007291</td>\n",
       "      <td>0.013047</td>\n",
       "      <td>0.009593</td>\n",
       "      <td>0.034919</td>\n",
       "      <td>0.005372</td>\n",
       "      <td>0.022640</td>\n",
       "      <td>0.039524</td>\n",
       "      <td>0.209133</td>\n",
       "      <td>0.485418</td>\n",
       "    </tr>\n",
       "    <tr>\n",
       "      <th>PRT</th>\n",
       "      <td>0.058132</td>\n",
       "      <td>0.014043</td>\n",
       "      <td>0.083932</td>\n",
       "      <td>0.017636</td>\n",
       "      <td>0.001960</td>\n",
       "      <td>0.102221</td>\n",
       "      <td>0.010451</td>\n",
       "      <td>0.002286</td>\n",
       "      <td>0.020901</td>\n",
       "      <td>0.042456</td>\n",
       "      <td>0.246897</td>\n",
       "      <td>0.399086</td>\n",
       "    </tr>\n",
       "    <tr>\n",
       "      <th>DET</th>\n",
       "      <td>0.022128</td>\n",
       "      <td>0.044740</td>\n",
       "      <td>0.206046</td>\n",
       "      <td>0.003748</td>\n",
       "      <td>0.000121</td>\n",
       "      <td>0.005441</td>\n",
       "      <td>0.012817</td>\n",
       "      <td>0.000363</td>\n",
       "      <td>0.009432</td>\n",
       "      <td>0.017412</td>\n",
       "      <td>0.638452</td>\n",
       "      <td>0.039299</td>\n",
       "    </tr>\n",
       "    <tr>\n",
       "      <th>ADV</th>\n",
       "      <td>0.031095</td>\n",
       "      <td>0.022825</td>\n",
       "      <td>0.127357</td>\n",
       "      <td>0.015217</td>\n",
       "      <td>0.013893</td>\n",
       "      <td>0.068806</td>\n",
       "      <td>0.080384</td>\n",
       "      <td>0.006947</td>\n",
       "      <td>0.120079</td>\n",
       "      <td>0.136619</td>\n",
       "      <td>0.031426</td>\n",
       "      <td>0.345352</td>\n",
       "    </tr>\n",
       "    <tr>\n",
       "      <th>CONJ</th>\n",
       "      <td>0.040930</td>\n",
       "      <td>0.008372</td>\n",
       "      <td>0.116279</td>\n",
       "      <td>0.059070</td>\n",
       "      <td>0.004651</td>\n",
       "      <td>0.120465</td>\n",
       "      <td>0.054419</td>\n",
       "      <td>0.000465</td>\n",
       "      <td>0.053488</td>\n",
       "      <td>0.035349</td>\n",
       "      <td>0.349302</td>\n",
       "      <td>0.157209</td>\n",
       "    </tr>\n",
       "    <tr>\n",
       "      <th>ADP</th>\n",
       "      <td>0.062667</td>\n",
       "      <td>0.035779</td>\n",
       "      <td>0.105195</td>\n",
       "      <td>0.070380</td>\n",
       "      <td>0.001500</td>\n",
       "      <td>0.322871</td>\n",
       "      <td>0.013283</td>\n",
       "      <td>0.000857</td>\n",
       "      <td>0.017247</td>\n",
       "      <td>0.040064</td>\n",
       "      <td>0.321585</td>\n",
       "      <td>0.008570</td>\n",
       "    </tr>\n",
       "    <tr>\n",
       "      <th>.</th>\n",
       "      <td>0.081322</td>\n",
       "      <td>0.027287</td>\n",
       "      <td>0.043768</td>\n",
       "      <td>0.065922</td>\n",
       "      <td>0.002251</td>\n",
       "      <td>0.174081</td>\n",
       "      <td>0.052414</td>\n",
       "      <td>0.058087</td>\n",
       "      <td>0.091048</td>\n",
       "      <td>0.093210</td>\n",
       "      <td>0.221632</td>\n",
       "      <td>0.088887</td>\n",
       "    </tr>\n",
       "    <tr>\n",
       "      <th>NOUN</th>\n",
       "      <td>0.009315</td>\n",
       "      <td>0.029333</td>\n",
       "      <td>0.012237</td>\n",
       "      <td>0.004639</td>\n",
       "      <td>0.044055</td>\n",
       "      <td>0.013151</td>\n",
       "      <td>0.017388</td>\n",
       "      <td>0.042776</td>\n",
       "      <td>0.176292</td>\n",
       "      <td>0.239416</td>\n",
       "      <td>0.264840</td>\n",
       "      <td>0.146557</td>\n",
       "    </tr>\n",
       "    <tr>\n",
       "      <th>VERB</th>\n",
       "      <td>0.022641</td>\n",
       "      <td>0.217615</td>\n",
       "      <td>0.065666</td>\n",
       "      <td>0.035245</td>\n",
       "      <td>0.032055</td>\n",
       "      <td>0.135066</td>\n",
       "      <td>0.081849</td>\n",
       "      <td>0.005602</td>\n",
       "      <td>0.091107</td>\n",
       "      <td>0.035011</td>\n",
       "      <td>0.109935</td>\n",
       "      <td>0.168210</td>\n",
       "    </tr>\n",
       "  </tbody>\n",
       "</table>\n",
       "</div>"
      ],
      "text/plain": [
       "           NUM         X       ADJ      PRON       PRT       DET       ADV  \\\n",
       "NUM   0.186350  0.211573  0.033234  0.001484  0.026113  0.002967  0.002967   \n",
       "X     0.002859  0.075445  0.016518  0.055591  0.183926  0.053526  0.025572   \n",
       "ADJ   0.021154  0.021319  0.066435  0.000661  0.010907  0.004958  0.004793   \n",
       "PRON  0.007291  0.092863  0.072909  0.007291  0.013047  0.009593  0.034919   \n",
       "PRT   0.058132  0.014043  0.083932  0.017636  0.001960  0.102221  0.010451   \n",
       "DET   0.022128  0.044740  0.206046  0.003748  0.000121  0.005441  0.012817   \n",
       "ADV   0.031095  0.022825  0.127357  0.015217  0.013893  0.068806  0.080384   \n",
       "CONJ  0.040930  0.008372  0.116279  0.059070  0.004651  0.120465  0.054419   \n",
       "ADP   0.062667  0.035779  0.105195  0.070380  0.001500  0.322871  0.013283   \n",
       ".     0.081322  0.027287  0.043768  0.065922  0.002251  0.174081  0.052414   \n",
       "NOUN  0.009315  0.029333  0.012237  0.004639  0.044055  0.013151  0.017388   \n",
       "VERB  0.022641  0.217615  0.065666  0.035245  0.032055  0.135066  0.081849   \n",
       "\n",
       "          CONJ       ADP         .      NOUN      VERB  \n",
       "NUM   0.012463  0.032047  0.117211  0.356380  0.017211  \n",
       "X     0.010483  0.143583  0.164708  0.063056  0.204733  \n",
       "ADJ   0.016526  0.078499  0.064948  0.698066  0.011734  \n",
       "PRON  0.005372  0.022640  0.039524  0.209133  0.485418  \n",
       "PRT   0.002286  0.020901  0.042456  0.246897  0.399086  \n",
       "DET   0.000363  0.009432  0.017412  0.638452  0.039299  \n",
       "ADV   0.006947  0.120079  0.136619  0.031426  0.345352  \n",
       "CONJ  0.000465  0.053488  0.035349  0.349302  0.157209  \n",
       "ADP   0.000857  0.017247  0.040064  0.321585  0.008570  \n",
       ".     0.058087  0.091048  0.093210  0.221632  0.088887  \n",
       "NOUN  0.042776  0.176292  0.239416  0.264840  0.146557  \n",
       "VERB  0.005602  0.091107  0.035011  0.109935  0.168210  "
      ]
     },
     "execution_count": 16,
     "metadata": {},
     "output_type": "execute_result"
    }
   ],
   "source": [
    "tgs_df = pd.DataFrame(tgs_matrix, columns=list(tgs), index=list(tgs))\n",
    "tgs_df"
   ]
  },
  {
   "cell_type": "code",
   "execution_count": 17,
   "metadata": {},
   "outputs": [
    {
     "data": {
      "text/plain": [
       "NUM     0.081322\n",
       "X       0.027287\n",
       "ADJ     0.043768\n",
       "PRON    0.065922\n",
       "PRT     0.002251\n",
       "DET     0.174081\n",
       "ADV     0.052414\n",
       "CONJ    0.058087\n",
       "ADP     0.091048\n",
       ".       0.093210\n",
       "NOUN    0.221632\n",
       "VERB    0.088887\n",
       "Name: ., dtype: float32"
      ]
     },
     "execution_count": 17,
     "metadata": {},
     "output_type": "execute_result"
    }
   ],
   "source": [
    "tgs_df.loc['.',:] "
   ]
  },
  {
   "cell_type": "code",
   "execution_count": 18,
   "metadata": {},
   "outputs": [
    {
     "data": {
      "image/png": "[encoded data removed]",
      "text/plain": [
       "<Figure size 1152x720 with 2 Axes>"
      ]
     },
     "metadata": {
      "needs_background": "light"
     },
     "output_type": "display_data"
    }
   ],
   "source": [
    "# Heatmap of tgs_df\n",
    "plt.figure(figsize=(16,10))\n",
    "sns.heatmap(tgs_df)\n",
    "plt.show() "
   ]
  },
  {
   "cell_type": "code",
   "execution_count": 19,
   "metadata": {},
   "outputs": [
    {
     "data": {
      "image/png": "[encoded data removed]",
      "text/plain": [
       "<Figure size 1152x720 with 2 Axes>"
      ]
     },
     "metadata": {
      "needs_background": "light"
     },
     "output_type": "display_data"
    }
   ],
   "source": [
    "# Find frequent tags P(t2|t1) > 0.25\n",
    "freq_tgs = tgs_df[tgs_df>0.25]\n",
    "plt.figure(figsize=(16,10))\n",
    "sns.heatmap(freq_tgs)\n",
    "plt.show() "
   ]
  },
  {
   "cell_type": "code",
   "execution_count": 20,
   "metadata": {},
   "outputs": [
    {
     "data": {
      "text/plain": [
       "95495"
      ]
     },
     "execution_count": 20,
     "metadata": {},
     "output_type": "execute_result"
    }
   ],
   "source": [
    "len(tr_tagd_wrds) "
   ]
  },
  {
   "cell_type": "code",
   "execution_count": 22,
   "metadata": {},
   "outputs": [],
   "source": [
    "# Viterbi Heuristic\n",
    "def Viterbi(words, train_bag = tr_tagd_wrds):\n",
    "    state =[]\n",
    "    T = list(set([pair[1] for pair in train_bag]))\n",
    "    \n",
    "    for key, word in enumerate(words):\n",
    "        p = []\n",
    "        for tag in T:\n",
    "            if key == 0:\n",
    "                transition_p = tgs_df.loc['.', tag]\n",
    "            else:\n",
    "                transition_p = tgs_df.loc[state[-1], tag]\n",
    "            \n",
    "            emission_p = word_given_tag(words[key], tag)[0]/word_given_tag(words[key], tag)[1]\n",
    "            state_probability = emission_p * transition_p\n",
    "            p.append(state_probability)\n",
    "            \n",
    "        pmax = max(p)\n",
    "        state_max = T[p.index(pmax)]\n",
    "        state.append(state_max)\n",
    "    return list(zip(words, state)) "
   ]
  },
  {
   "cell_type": "code",
   "execution_count": 23,
   "metadata": {
    "scrolled": false
   },
   "outputs": [
    {
     "data": {
      "text/plain": [
       "[[('Mr.', 'NOUN'),\n",
       "  ('Taccetta', 'NOUN'),\n",
       "  ('says', 'VERB'),\n",
       "  ('0', 'X'),\n",
       "  ('he', 'PRON'),\n",
       "  ('had', 'VERB'),\n",
       "  ('just', 'ADV'),\n",
       "  ('recouped', 'VERB'),\n",
       "  ('the', 'DET'),\n",
       "  ('$', '.'),\n",
       "  ('5,000', 'NUM'),\n",
       "  ('*U*', 'X'),\n",
       "  ('0', 'X'),\n",
       "  ('he', 'PRON'),\n",
       "  ('lost', 'VERB'),\n",
       "  ('*T*-1', 'X'),\n",
       "  ('in', 'ADP'),\n",
       "  ('the', 'DET'),\n",
       "  ('1987', 'NUM'),\n",
       "  ('crash', 'NOUN'),\n",
       "  ('when', 'ADV'),\n",
       "  ('he', 'PRON'),\n",
       "  ('lost', 'VERB'),\n",
       "  ('more', 'ADJ'),\n",
       "  ('money', 'NOUN'),\n",
       "  ('last', 'ADJ'),\n",
       "  ('Oct.', 'NOUN'),\n",
       "  ('13', 'NUM'),\n",
       "  ('*T*-2', 'X'),\n",
       "  ('.', '.')],\n",
       " [('Sir', 'NOUN'),\n",
       "  ('Peter', 'NOUN'),\n",
       "  ('Walters', 'NOUN'),\n",
       "  (',', '.'),\n",
       "  ('58-year-old', 'ADJ'),\n",
       "  ('chairman', 'NOUN'),\n",
       "  ('of', 'ADP'),\n",
       "  ('British', 'NOUN'),\n",
       "  ('Petroleum', 'NOUN'),\n",
       "  ('Co.', 'NOUN'),\n",
       "  ('until', 'ADP'),\n",
       "  ('next', 'ADJ'),\n",
       "  ('March', 'NOUN'),\n",
       "  (',', '.'),\n",
       "  ('joins', 'VERB'),\n",
       "  ('the', 'DET'),\n",
       "  ('board', 'NOUN'),\n",
       "  ('of', 'ADP'),\n",
       "  ('this', 'DET'),\n",
       "  ('cement', 'NOUN'),\n",
       "  ('products', 'NOUN'),\n",
       "  ('company', 'NOUN'),\n",
       "  ('on', 'ADP'),\n",
       "  ('Dec.', 'NOUN'),\n",
       "  ('1', 'NUM'),\n",
       "  ('.', '.')],\n",
       " [('``', '.'),\n",
       "  ('The', 'DET'),\n",
       "  ('way', 'NOUN'),\n",
       "  ('that', 'ADP'),\n",
       "  ('we', 'PRON'),\n",
       "  (\"'ve\", 'VERB'),\n",
       "  ('been', 'VERB'),\n",
       "  ('managing', 'VERB'),\n",
       "  ('Campbell', 'NOUN'),\n",
       "  ('U.S.A.', 'NOUN'),\n",
       "  ('*T*-2', 'X'),\n",
       "  ('can', 'VERB'),\n",
       "  ('hopefully', 'ADV'),\n",
       "  ('spread', 'VERB'),\n",
       "  ('to', 'PRT'),\n",
       "  ('other', 'ADJ'),\n",
       "  ('areas', 'NOUN'),\n",
       "  ('of', 'ADP'),\n",
       "  ('the', 'DET'),\n",
       "  ('company', 'NOUN'),\n",
       "  (',', '.'),\n",
       "  (\"''\", '.'),\n",
       "  ('Mr.', 'NOUN'),\n",
       "  ('Baum', 'NOUN'),\n",
       "  ('said', 'VERB'),\n",
       "  ('*T*-1', 'X'),\n",
       "  ('.', '.')],\n",
       " [('Cara', 'NOUN'),\n",
       "  (',', '.'),\n",
       "  ('a', 'DET'),\n",
       "  ('food', 'NOUN'),\n",
       "  ('services', 'NOUN'),\n",
       "  ('chain', 'NOUN'),\n",
       "  ('operator', 'NOUN'),\n",
       "  ('and', 'CONJ'),\n",
       "  ('Unicorp', 'NOUN'),\n",
       "  (',', '.'),\n",
       "  ('a', 'DET'),\n",
       "  ('holding', 'VERB'),\n",
       "  ('company', 'NOUN'),\n",
       "  (',', '.'),\n",
       "  ('are', 'VERB'),\n",
       "  ('based', 'VERB'),\n",
       "  ('*-1', 'X'),\n",
       "  ('in', 'ADP'),\n",
       "  ('Toronto', 'NOUN'),\n",
       "  ('.', '.')],\n",
       " [('And', 'CONJ'),\n",
       "  ('sales', 'NOUN'),\n",
       "  ('of', 'ADP'),\n",
       "  ('test-coaching', 'ADJ'),\n",
       "  ('booklets', 'NOUN'),\n",
       "  ('for', 'ADP'),\n",
       "  ('classroom', 'NOUN'),\n",
       "  ('instruction', 'NOUN'),\n",
       "  ('are', 'VERB'),\n",
       "  ('booming', 'VERB'),\n",
       "  ('.', '.')]]"
      ]
     },
     "execution_count": 23,
     "metadata": {},
     "output_type": "execute_result"
    }
   ],
   "source": [
    "random.seed(1234)\n",
    "\n",
    "rndom = [random.randint(1, len(ts_set)) for x in range(5)]\n",
    "\n",
    "test_run = [ts_set[i] for i in rndom]\n",
    "\n",
    "test_run_base = [tup for sent in test_run for tup in sent]\n",
    "\n",
    "test_tagged_words = [tup[0] for sent in test_run for tup in sent]\n",
    "test_run"
   ]
  },
  {
   "cell_type": "code",
   "execution_count": 24,
   "metadata": {},
   "outputs": [
    {
     "name": "stdout",
     "output_type": "stream",
     "text": [
      "time taken in seconds:  51.45268225669861\n",
      "[('Mr.', 'NOUN'), ('Taccetta', 'NOUN'), ('says', 'VERB'), ('0', 'X'), ('he', 'PRON'), ('had', 'VERB'), ('just', 'ADV'), ('recouped', 'NUM'), ('the', 'DET'), ('$', '.'), ('5,000', 'NUM'), ('*U*', 'X'), ('0', 'X'), ('he', 'PRON'), ('lost', 'VERB'), ('*T*-1', 'X'), ('in', 'ADP'), ('the', 'DET'), ('1987', 'NUM'), ('crash', 'NOUN'), ('when', 'ADV'), ('he', 'PRON'), ('lost', 'VERB'), ('more', 'ADV'), ('money', 'NOUN'), ('last', 'ADJ'), ('Oct.', 'NOUN'), ('13', 'NUM'), ('*T*-2', 'X'), ('.', '.'), ('Sir', 'NOUN'), ('Peter', 'NOUN'), ('Walters', 'NUM'), (',', '.'), ('58-year-old', 'NUM'), ('chairman', 'NOUN'), ('of', 'ADP'), ('British', 'ADJ'), ('Petroleum', 'NOUN'), ('Co.', 'NOUN'), ('until', 'ADP'), ('next', 'ADJ'), ('March', 'NOUN'), (',', '.'), ('joins', 'VERB'), ('the', 'DET'), ('board', 'NOUN'), ('of', 'ADP'), ('this', 'DET'), ('cement', 'NUM'), ('products', 'NOUN'), ('company', 'NOUN'), ('on', 'ADP'), ('Dec.', 'NOUN'), ('1', 'NUM'), ('.', '.'), ('``', '.'), ('The', 'DET'), ('way', 'NOUN'), ('that', 'ADP'), ('we', 'PRON'), (\"'ve\", 'VERB'), ('been', 'VERB'), ('managing', 'VERB'), ('Campbell', 'NOUN'), ('U.S.A.', 'NOUN'), ('*T*-2', 'X'), ('can', 'VERB'), ('hopefully', 'ADV'), ('spread', 'VERB'), ('to', 'PRT'), ('other', 'ADJ'), ('areas', 'NOUN'), ('of', 'ADP'), ('the', 'DET'), ('company', 'NOUN'), (',', '.'), (\"''\", '.'), ('Mr.', 'NOUN'), ('Baum', 'NOUN'), ('said', 'VERB'), ('*T*-1', 'X'), ('.', '.'), ('Cara', 'NOUN'), (',', '.'), ('a', 'DET'), ('food', 'NOUN'), ('services', 'NOUN'), ('chain', 'NOUN'), ('operator', 'NOUN'), ('and', 'CONJ'), ('Unicorp', 'NOUN'), (',', '.'), ('a', 'DET'), ('holding', 'NOUN'), ('company', 'NOUN'), (',', '.'), ('are', 'VERB'), ('based', 'VERB'), ('*-1', 'X'), ('in', 'ADP'), ('Toronto', 'NOUN'), ('.', '.'), ('And', 'CONJ'), ('sales', 'NOUN'), ('of', 'ADP'), ('test-coaching', 'ADJ'), ('booklets', 'NOUN'), ('for', 'ADP'), ('classroom', 'NOUN'), ('instruction', 'NOUN'), ('are', 'VERB'), ('booming', 'VERB'), ('.', '.')]\n"
     ]
    }
   ],
   "source": [
    "# Tag the test sentences\n",
    "start = time.time()\n",
    "tagged_seq = Viterbi(test_tagged_words)\n",
    "end = time.time()\n",
    "difference = end-start\n",
    "print(\"time taken in seconds: \", difference)\n",
    "print(tagged_seq) "
   ]
  },
  {
   "cell_type": "code",
   "execution_count": 25,
   "metadata": {},
   "outputs": [
    {
     "data": {
      "text/plain": [
       "0.9385964912280702"
      ]
     },
     "execution_count": 25,
     "metadata": {},
     "output_type": "execute_result"
    }
   ],
   "source": [
    "# accuracy\n",
    "check = [i for i, j in zip(tagged_seq, test_run_base) if i == j] \n",
    "vannila_viterbi_accuracy = len(check)/len(tagged_seq)\n",
    "vannila_viterbi_accuracy "
   ]
  },
  {
   "cell_type": "code",
   "execution_count": 26,
   "metadata": {},
   "outputs": [
    {
     "data": {
      "text/plain": [
       "[[('just', 'ADV'), (('recouped', 'NUM'), ('recouped', 'VERB'))],\n",
       " [('lost', 'VERB'), (('more', 'ADV'), ('more', 'ADJ'))],\n",
       " [('Peter', 'NOUN'), (('Walters', 'NUM'), ('Walters', 'NOUN'))],\n",
       " [(',', '.'), (('58-year-old', 'NUM'), ('58-year-old', 'ADJ'))],\n",
       " [('of', 'ADP'), (('British', 'ADJ'), ('British', 'NOUN'))],\n",
       " [('this', 'DET'), (('cement', 'NUM'), ('cement', 'NOUN'))],\n",
       " [('a', 'DET'), (('holding', 'NOUN'), ('holding', 'VERB'))]]"
      ]
     },
     "execution_count": 26,
     "metadata": {},
     "output_type": "execute_result"
    }
   ],
   "source": [
    "incorrect_tagged_cases = [[test_run_base[i-1],j] for i, j in enumerate(zip(tagged_seq, test_run_base)) if j[0]!=j[1]]\n",
    "incorrect_tagged_cases "
   ]
  },
  {
   "cell_type": "code",
   "execution_count": 28,
   "metadata": {},
   "outputs": [
    {
     "name": "stdout",
     "output_type": "stream",
     "text": [
      "[('Android', 'NUM'), ('is', 'VERB'), ('a', 'DET'), ('mobile', 'ADJ'), ('operating', 'NOUN'), ('system', 'NOUN'), ('developed', 'VERB'), ('by', 'ADP'), ('Google', 'NUM'), ('.', '.'), ('Android', 'NUM'), ('has', 'VERB'), ('been', 'VERB'), ('the', 'DET'), ('best-selling', 'ADJ'), ('OS', 'NUM'), ('worldwide', 'NUM'), ('on', 'ADP'), ('smartphones', 'NUM'), ('since', 'ADP'), ('2011', 'NUM'), ('and', 'CONJ'), ('on', 'ADP'), ('tablets', 'NOUN'), ('since', 'ADP'), ('2013', 'NUM'), ('.', '.'), ('Google', 'NUM'), ('and', 'CONJ'), ('Twitter', 'NUM'), ('made', 'VERB'), ('a', 'DET'), ('deal', 'NOUN'), ('in', 'ADP'), ('2015', 'NUM'), ('that', 'ADP'), ('gave', 'VERB'), ('Google', 'NUM'), ('access', 'NOUN'), ('to', 'PRT'), ('Twitter', 'NUM'), (\"'s\", 'PRT'), ('firehose', 'NUM'), ('.', '.'), ('Twitter', 'NUM'), ('is', 'VERB'), ('an', 'DET'), ('online', 'NUM'), ('news', 'NOUN'), ('and', 'CONJ'), ('social', 'ADJ'), ('networking', 'NOUN'), ('service', 'NOUN'), ('on', 'ADP'), ('which', 'DET'), ('users', 'NOUN'), ('post', 'NOUN'), ('and', 'CONJ'), ('interact', 'NUM'), ('with', 'ADP'), ('messages', 'NUM'), ('known', 'VERB'), ('as', 'ADP'), ('tweets', 'NUM'), ('.', '.'), ('Before', 'ADP'), ('entering', 'VERB'), ('politics', 'NOUN'), (',', '.'), ('Donald', 'NOUN'), ('Trump', 'NOUN'), ('was', 'VERB'), ('a', 'DET'), ('domineering', 'NUM'), ('businessman', 'NOUN'), ('and', 'CONJ'), ('a', 'DET'), ('television', 'NOUN'), ('personality', 'NUM'), ('.', '.'), ('The', 'DET'), ('2018', 'NUM'), ('FIFA', 'NUM'), ('World', 'NOUN'), ('Cup', 'NUM'), ('is', 'VERB'), ('the', 'DET'), ('21st', 'NUM'), ('FIFA', 'NUM'), ('World', 'NOUN'), ('Cup', 'NUM'), (',', '.'), ('an', 'DET'), ('international', 'ADJ'), ('football', 'NOUN'), ('tournament', 'NUM'), ('contested', 'NUM'), ('once', 'ADV'), ('every', 'DET'), ('four', 'NUM'), ('years', 'NOUN'), ('.', '.'), ('This', 'DET'), ('is', 'VERB'), ('the', 'DET'), ('first', 'ADJ'), ('World', 'NOUN'), ('Cup', 'NUM'), ('to', 'PRT'), ('be', 'VERB'), ('held', 'VERB'), ('in', 'ADP'), ('Eastern', 'NOUN'), ('Europe', 'NOUN'), ('and', 'CONJ'), ('the', 'DET'), ('11th', 'ADJ'), ('time', 'NOUN'), ('that', 'ADP'), ('it', 'PRON'), ('has', 'VERB'), ('been', 'VERB'), ('held', 'VERB'), ('in', 'ADP'), ('Europe', 'NOUN'), ('.', '.'), ('Show', 'NOUN'), ('me', 'PRON'), ('the', 'DET'), ('cheapest', 'ADJ'), ('round', 'NOUN'), ('trips', 'NUM'), ('from', 'ADP'), ('Dallas', 'NOUN'), ('to', 'PRT'), ('Atlanta', 'NOUN'), ('I', 'PRON'), ('would', 'VERB'), ('like', 'ADP'), ('to', 'PRT'), ('see', 'VERB'), ('flights', 'NOUN'), ('from', 'ADP'), ('Denver', 'NOUN'), ('to', 'PRT'), ('Philadelphia', 'NOUN'), ('.', '.'), ('Show', 'NOUN'), ('me', 'PRON'), ('the', 'DET'), ('price', 'NOUN'), ('of', 'ADP'), ('the', 'DET'), ('flights', 'NOUN'), ('leaving', 'VERB'), ('Atlanta', 'NOUN'), ('at', 'ADP'), ('about', 'ADP'), ('3', 'NUM'), ('in', 'ADP'), ('the', 'DET'), ('afternoon', 'NOUN'), ('and', 'CONJ'), ('arriving', 'NUM'), ('in', 'ADP'), ('San', 'NOUN'), ('Francisco', 'NOUN'), ('.', '.'), ('NASA', 'NUM'), ('invited', 'NUM'), ('social', 'ADJ'), ('media', 'NOUN'), ('users', 'NOUN'), ('to', 'PRT'), ('experience', 'NOUN'), ('the', 'DET'), ('launch', 'NOUN'), ('of', 'ADP'), ('ICESAT-2', 'NUM'), ('Satellite', 'NUM'), ('.', '.')]\n",
      "82.54688501358032\n"
     ]
    }
   ],
   "source": [
    "sentence_test = open('Test_sentences.txt',mode='r').read()\n",
    "words = word_tokenize(sentence_test)\n",
    "\n",
    "start = time.time()\n",
    "tagged_seq = Viterbi(words)\n",
    "end = time.time()\n",
    "difference = end-start\n",
    "\n",
    "print(tagged_seq)\n",
    "print(difference)\n",
    "vannila_test_tagged_seq = tagged_seq "
   ]
  },
  {
   "cell_type": "markdown",
   "metadata": {},
   "source": [
    "### Solve the problem of unknown words"
   ]
  },
  {
   "cell_type": "markdown",
   "metadata": {},
   "source": [
    "**Version 1**: Rule based tagging with Viterbi."
   ]
  },
  {
   "cell_type": "code",
   "execution_count": 30,
   "metadata": {},
   "outputs": [],
   "source": [
    "pattern = [\n",
    "        (r'.*Twitter$', 'NOUN'), \n",
    "        (r'.*Android$', 'NOUN'),\n",
    "        (r'.*Google$', 'NOUN'),\n",
    "        (r'[-+]?\\d*\\.\\d+|\\d+', 'NUM'), # Number with floating values\n",
    "        (r'.*es$', 'VERB'), \n",
    "        (r'.*ing$', 'VERB'), # gerunds or continuous tense\n",
    "        (r'.*ed$', 'VERB'),  # past perfect tense\n",
    "        (r'[A-Z ]+', 'NOUN'),  # all caps eg. FIFA, NASA, etc\n",
    "        (r'.*', 'NOUN'), # default value as NOUN\n",
    "]\n",
    "\n",
    "def rule_based_tagging(word, pattern):\n",
    "    regexp_tagger = nltk.RegexpTagger(pattern)\n",
    "    kv = regexp_tagger.tag(nltk.word_tokenize(word))\n",
    "    for v in kv:\n",
    "        print(word)\n",
    "        print(v[1])\n",
    "        return v[1]  "
   ]
  },
  {
   "cell_type": "code",
   "execution_count": 37,
   "metadata": {},
   "outputs": [],
   "source": [
    "# Viterbi heuristic\n",
    "def modified_Viterbi_rule_based(words, train_bag = tr_tagd_wrds):\n",
    "    state = []\n",
    "    T = list(set([pair[1] for pair in train_bag]))\n",
    "    \n",
    "    for key, word in enumerate(words):\n",
    "        #initialise list of probability column for a given observation\n",
    "        p = [] \n",
    "        for tag in T:\n",
    "            if key == 0:\n",
    "                transition_p = tgs_df.loc['.', tag]\n",
    "            else:\n",
    "                transition_p = tgs_df.loc[state[-1], tag]\n",
    "                \n",
    "            # compute emission and state probabilities\n",
    "            emission_p = word_given_tag(words[key], tag)[0]/word_given_tag(words[key], tag)[1]                \n",
    "            state_probability = emission_p * transition_p    \n",
    "            p.append(state_probability)\n",
    "        pmax = max(p)\n",
    "        if pmax == 0.0:       \n",
    "            state_max = rule_based_tagging(word, pattern)\n",
    "            if state_max is None :\n",
    "                state_max = \".\"\n",
    "        else :\n",
    "            state_max = T[p.index(pmax)] \n",
    "        state.append(state_max)\n",
    "    return list(zip(words, state)) "
   ]
  },
  {
   "cell_type": "code",
   "execution_count": 35,
   "metadata": {
    "scrolled": false
   },
   "outputs": [
    {
     "data": {
      "text/plain": [
       "[[('Mr.', 'NOUN'),\n",
       "  ('Taccetta', 'NOUN'),\n",
       "  ('says', 'VERB'),\n",
       "  ('0', 'X'),\n",
       "  ('he', 'PRON'),\n",
       "  ('had', 'VERB'),\n",
       "  ('just', 'ADV'),\n",
       "  ('recouped', 'VERB'),\n",
       "  ('the', 'DET'),\n",
       "  ('$', '.'),\n",
       "  ('5,000', 'NUM'),\n",
       "  ('*U*', 'X'),\n",
       "  ('0', 'X'),\n",
       "  ('he', 'PRON'),\n",
       "  ('lost', 'VERB'),\n",
       "  ('*T*-1', 'X'),\n",
       "  ('in', 'ADP'),\n",
       "  ('the', 'DET'),\n",
       "  ('1987', 'NUM'),\n",
       "  ('crash', 'NOUN'),\n",
       "  ('when', 'ADV'),\n",
       "  ('he', 'PRON'),\n",
       "  ('lost', 'VERB'),\n",
       "  ('more', 'ADJ'),\n",
       "  ('money', 'NOUN'),\n",
       "  ('last', 'ADJ'),\n",
       "  ('Oct.', 'NOUN'),\n",
       "  ('13', 'NUM'),\n",
       "  ('*T*-2', 'X'),\n",
       "  ('.', '.')],\n",
       " [('Sir', 'NOUN'),\n",
       "  ('Peter', 'NOUN'),\n",
       "  ('Walters', 'NOUN'),\n",
       "  (',', '.'),\n",
       "  ('58-year-old', 'ADJ'),\n",
       "  ('chairman', 'NOUN'),\n",
       "  ('of', 'ADP'),\n",
       "  ('British', 'NOUN'),\n",
       "  ('Petroleum', 'NOUN'),\n",
       "  ('Co.', 'NOUN'),\n",
       "  ('until', 'ADP'),\n",
       "  ('next', 'ADJ'),\n",
       "  ('March', 'NOUN'),\n",
       "  (',', '.'),\n",
       "  ('joins', 'VERB'),\n",
       "  ('the', 'DET'),\n",
       "  ('board', 'NOUN'),\n",
       "  ('of', 'ADP'),\n",
       "  ('this', 'DET'),\n",
       "  ('cement', 'NOUN'),\n",
       "  ('products', 'NOUN'),\n",
       "  ('company', 'NOUN'),\n",
       "  ('on', 'ADP'),\n",
       "  ('Dec.', 'NOUN'),\n",
       "  ('1', 'NUM'),\n",
       "  ('.', '.')],\n",
       " [('``', '.'),\n",
       "  ('The', 'DET'),\n",
       "  ('way', 'NOUN'),\n",
       "  ('that', 'ADP'),\n",
       "  ('we', 'PRON'),\n",
       "  (\"'ve\", 'VERB'),\n",
       "  ('been', 'VERB'),\n",
       "  ('managing', 'VERB'),\n",
       "  ('Campbell', 'NOUN'),\n",
       "  ('U.S.A.', 'NOUN'),\n",
       "  ('*T*-2', 'X'),\n",
       "  ('can', 'VERB'),\n",
       "  ('hopefully', 'ADV'),\n",
       "  ('spread', 'VERB'),\n",
       "  ('to', 'PRT'),\n",
       "  ('other', 'ADJ'),\n",
       "  ('areas', 'NOUN'),\n",
       "  ('of', 'ADP'),\n",
       "  ('the', 'DET'),\n",
       "  ('company', 'NOUN'),\n",
       "  (',', '.'),\n",
       "  (\"''\", '.'),\n",
       "  ('Mr.', 'NOUN'),\n",
       "  ('Baum', 'NOUN'),\n",
       "  ('said', 'VERB'),\n",
       "  ('*T*-1', 'X'),\n",
       "  ('.', '.')],\n",
       " [('Cara', 'NOUN'),\n",
       "  (',', '.'),\n",
       "  ('a', 'DET'),\n",
       "  ('food', 'NOUN'),\n",
       "  ('services', 'NOUN'),\n",
       "  ('chain', 'NOUN'),\n",
       "  ('operator', 'NOUN'),\n",
       "  ('and', 'CONJ'),\n",
       "  ('Unicorp', 'NOUN'),\n",
       "  (',', '.'),\n",
       "  ('a', 'DET'),\n",
       "  ('holding', 'VERB'),\n",
       "  ('company', 'NOUN'),\n",
       "  (',', '.'),\n",
       "  ('are', 'VERB'),\n",
       "  ('based', 'VERB'),\n",
       "  ('*-1', 'X'),\n",
       "  ('in', 'ADP'),\n",
       "  ('Toronto', 'NOUN'),\n",
       "  ('.', '.')],\n",
       " [('And', 'CONJ'),\n",
       "  ('sales', 'NOUN'),\n",
       "  ('of', 'ADP'),\n",
       "  ('test-coaching', 'ADJ'),\n",
       "  ('booklets', 'NOUN'),\n",
       "  ('for', 'ADP'),\n",
       "  ('classroom', 'NOUN'),\n",
       "  ('instruction', 'NOUN'),\n",
       "  ('are', 'VERB'),\n",
       "  ('booming', 'VERB'),\n",
       "  ('.', '.')]]"
      ]
     },
     "execution_count": 35,
     "metadata": {},
     "output_type": "execute_result"
    }
   ],
   "source": [
    "random.seed(1234)\n",
    "rndom = [random.randint(1,len(ts_set)) for x in range(5)]\n",
    "test_run = [ts_set[i] for i in rndom] \n",
    "test_run_base = [tup for sent in test_run for tup in sent]\n",
    "test_tagged_words = [tup[0] for sent in test_run for tup in sent]\n",
    "test_run "
   ]
  },
  {
   "cell_type": "code",
   "execution_count": 38,
   "metadata": {},
   "outputs": [
    {
     "name": "stdout",
     "output_type": "stream",
     "text": [
      "recouped\n",
      "VERB\n",
      "Walters\n",
      "NOUN\n",
      "58-year-old\n",
      "NUM\n",
      "cement\n",
      "NOUN\n",
      "Time taken in seconds:  26.728542804718018\n",
      "[('Mr.', 'NOUN'), ('Taccetta', 'NOUN'), ('says', 'VERB'), ('0', 'X'), ('he', 'PRON'), ('had', 'VERB'), ('just', 'ADV'), ('recouped', 'VERB'), ('the', 'DET'), ('$', '.'), ('5,000', 'NUM'), ('*U*', 'X'), ('0', 'X'), ('he', 'PRON'), ('lost', 'VERB'), ('*T*-1', 'X'), ('in', 'ADP'), ('the', 'DET'), ('1987', 'NUM'), ('crash', 'NOUN'), ('when', 'ADV'), ('he', 'PRON'), ('lost', 'VERB'), ('more', 'ADV'), ('money', 'NOUN'), ('last', 'ADJ'), ('Oct.', 'NOUN'), ('13', 'NUM'), ('*T*-2', 'X'), ('.', '.'), ('Sir', 'NOUN'), ('Peter', 'NOUN'), ('Walters', 'NOUN'), (',', '.'), ('58-year-old', 'NUM'), ('chairman', 'NOUN'), ('of', 'ADP'), ('British', 'ADJ'), ('Petroleum', 'NOUN'), ('Co.', 'NOUN'), ('until', 'ADP'), ('next', 'ADJ'), ('March', 'NOUN'), (',', '.'), ('joins', 'VERB'), ('the', 'DET'), ('board', 'NOUN'), ('of', 'ADP'), ('this', 'DET'), ('cement', 'NOUN'), ('products', 'NOUN'), ('company', 'NOUN'), ('on', 'ADP'), ('Dec.', 'NOUN'), ('1', 'NUM'), ('.', '.'), ('``', '.'), ('The', 'DET'), ('way', 'NOUN'), ('that', 'ADP'), ('we', 'PRON'), (\"'ve\", 'VERB'), ('been', 'VERB'), ('managing', 'VERB'), ('Campbell', 'NOUN'), ('U.S.A.', 'NOUN'), ('*T*-2', 'X'), ('can', 'VERB'), ('hopefully', 'ADV'), ('spread', 'VERB'), ('to', 'PRT'), ('other', 'ADJ'), ('areas', 'NOUN'), ('of', 'ADP'), ('the', 'DET'), ('company', 'NOUN'), (',', '.'), (\"''\", '.'), ('Mr.', 'NOUN'), ('Baum', 'NOUN'), ('said', 'VERB'), ('*T*-1', 'X'), ('.', '.'), ('Cara', 'NOUN'), (',', '.'), ('a', 'DET'), ('food', 'NOUN'), ('services', 'NOUN'), ('chain', 'NOUN'), ('operator', 'NOUN'), ('and', 'CONJ'), ('Unicorp', 'NOUN'), (',', '.'), ('a', 'DET'), ('holding', 'NOUN'), ('company', 'NOUN'), (',', '.'), ('are', 'VERB'), ('based', 'VERB'), ('*-1', 'X'), ('in', 'ADP'), ('Toronto', 'NOUN'), ('.', '.'), ('And', 'CONJ'), ('sales', 'NOUN'), ('of', 'ADP'), ('test-coaching', 'ADJ'), ('booklets', 'NOUN'), ('for', 'ADP'), ('classroom', 'NOUN'), ('instruction', 'NOUN'), ('are', 'VERB'), ('booming', 'VERB'), ('.', '.')]\n"
     ]
    }
   ],
   "source": [
    "# tagging the test sentences\n",
    "start = time.time()\n",
    "tagged_seq = modified_Viterbi_rule_based(test_tagged_words)\n",
    "end = time.time()\n",
    "difference = end-start\n",
    "\n",
    "print(\"Time taken in seconds: \", difference)\n",
    "print(tagged_seq) "
   ]
  },
  {
   "cell_type": "code",
   "execution_count": 39,
   "metadata": {},
   "outputs": [
    {
     "name": "stdout",
     "output_type": "stream",
     "text": [
      "0.9649122807017544\n"
     ]
    }
   ],
   "source": [
    "# accuracy\n",
    "check = [i for i, j in zip(tagged_seq, test_run_base) if i == j] \n",
    "rulebased_modified_viterbi_accuracy = len(check)/len(tagged_seq)\n",
    "print(rulebased_modified_viterbi_accuracy) "
   ]
  },
  {
   "cell_type": "code",
   "execution_count": 40,
   "metadata": {},
   "outputs": [
    {
     "data": {
      "text/plain": [
       "[[('lost', 'VERB'), (('more', 'ADV'), ('more', 'ADJ'))],\n",
       " [(',', '.'), (('58-year-old', 'NUM'), ('58-year-old', 'ADJ'))],\n",
       " [('of', 'ADP'), (('British', 'ADJ'), ('British', 'NOUN'))],\n",
       " [('a', 'DET'), (('holding', 'NOUN'), ('holding', 'VERB'))]]"
      ]
     },
     "execution_count": 40,
     "metadata": {},
     "output_type": "execute_result"
    }
   ],
   "source": [
    "incorrect_tagged_cases = [[test_run_base[i-1],j] for i, j in enumerate(zip(tagged_seq, test_run_base)) if j[0]!=j[1]]\n",
    "incorrect_tagged_cases "
   ]
  },
  {
   "cell_type": "code",
   "execution_count": 41,
   "metadata": {},
   "outputs": [
    {
     "name": "stdout",
     "output_type": "stream",
     "text": [
      "Android\n",
      "NOUN\n",
      "Google\n",
      "NOUN\n",
      "Android\n",
      "NOUN\n",
      "OS\n",
      "NOUN\n",
      "worldwide\n",
      "NOUN\n",
      "smartphones\n",
      "VERB\n",
      "2011\n",
      "NUM\n",
      "2013\n",
      "NUM\n",
      "Google\n",
      "NOUN\n",
      "Twitter\n",
      "NOUN\n",
      "2015\n",
      "NUM\n",
      "Google\n",
      "NOUN\n",
      "Twitter\n",
      "NOUN\n",
      "firehose\n",
      "NOUN\n",
      "Twitter\n",
      "NOUN\n",
      "online\n",
      "NOUN\n",
      "interact\n",
      "NOUN\n",
      "messages\n",
      "VERB\n",
      "tweets\n",
      "NOUN\n",
      "domineering\n",
      "VERB\n",
      "personality\n",
      "NOUN\n",
      "2018\n",
      "NUM\n",
      "FIFA\n",
      "NOUN\n",
      "Cup\n",
      "NOUN\n",
      "21st\n",
      "NUM\n",
      "FIFA\n",
      "NOUN\n",
      "Cup\n",
      "NOUN\n",
      "tournament\n",
      "NOUN\n",
      "contested\n",
      "VERB\n",
      "Cup\n",
      "NOUN\n",
      "trips\n",
      "NOUN\n",
      "arriving\n",
      "VERB\n",
      "NASA\n",
      "NOUN\n",
      "invited\n",
      "VERB\n",
      "ICESAT-2\n",
      "NOUN\n",
      "Satellite\n",
      "NOUN\n",
      "[('Android', 'NOUN'), ('is', 'VERB'), ('a', 'DET'), ('mobile', 'ADJ'), ('operating', 'NOUN'), ('system', 'NOUN'), ('developed', 'VERB'), ('by', 'ADP'), ('Google', 'NOUN'), ('.', '.'), ('Android', 'NOUN'), ('has', 'VERB'), ('been', 'VERB'), ('the', 'DET'), ('best-selling', 'ADJ'), ('OS', 'NOUN'), ('worldwide', 'NOUN'), ('on', 'ADP'), ('smartphones', 'VERB'), ('since', 'ADP'), ('2011', 'NUM'), ('and', 'CONJ'), ('on', 'ADP'), ('tablets', 'NOUN'), ('since', 'ADP'), ('2013', 'NUM'), ('.', '.'), ('Google', 'NOUN'), ('and', 'CONJ'), ('Twitter', 'NOUN'), ('made', 'VERB'), ('a', 'DET'), ('deal', 'NOUN'), ('in', 'ADP'), ('2015', 'NUM'), ('that', 'ADP'), ('gave', 'VERB'), ('Google', 'NOUN'), ('access', 'NOUN'), ('to', 'PRT'), ('Twitter', 'NOUN'), (\"'s\", 'PRT'), ('firehose', 'NOUN'), ('.', '.'), ('Twitter', 'NOUN'), ('is', 'VERB'), ('an', 'DET'), ('online', 'NOUN'), ('news', 'NOUN'), ('and', 'CONJ'), ('social', 'ADJ'), ('networking', 'NOUN'), ('service', 'NOUN'), ('on', 'ADP'), ('which', 'DET'), ('users', 'NOUN'), ('post', 'NOUN'), ('and', 'CONJ'), ('interact', 'NOUN'), ('with', 'ADP'), ('messages', 'VERB'), ('known', 'VERB'), ('as', 'ADP'), ('tweets', 'NOUN'), ('.', '.'), ('Before', 'ADP'), ('entering', 'VERB'), ('politics', 'NOUN'), (',', '.'), ('Donald', 'NOUN'), ('Trump', 'NOUN'), ('was', 'VERB'), ('a', 'DET'), ('domineering', 'VERB'), ('businessman', 'NOUN'), ('and', 'CONJ'), ('a', 'DET'), ('television', 'NOUN'), ('personality', 'NOUN'), ('.', '.'), ('The', 'DET'), ('2018', 'NUM'), ('FIFA', 'NOUN'), ('World', 'NOUN'), ('Cup', 'NOUN'), ('is', 'VERB'), ('the', 'DET'), ('21st', 'NUM'), ('FIFA', 'NOUN'), ('World', 'NOUN'), ('Cup', 'NOUN'), (',', '.'), ('an', 'DET'), ('international', 'ADJ'), ('football', 'NOUN'), ('tournament', 'NOUN'), ('contested', 'VERB'), ('once', 'ADV'), ('every', 'DET'), ('four', 'NUM'), ('years', 'NOUN'), ('.', '.'), ('This', 'DET'), ('is', 'VERB'), ('the', 'DET'), ('first', 'ADJ'), ('World', 'NOUN'), ('Cup', 'NOUN'), ('to', 'PRT'), ('be', 'VERB'), ('held', 'VERB'), ('in', 'ADP'), ('Eastern', 'NOUN'), ('Europe', 'NOUN'), ('and', 'CONJ'), ('the', 'DET'), ('11th', 'ADJ'), ('time', 'NOUN'), ('that', 'ADP'), ('it', 'PRON'), ('has', 'VERB'), ('been', 'VERB'), ('held', 'VERB'), ('in', 'ADP'), ('Europe', 'NOUN'), ('.', '.'), ('Show', 'NOUN'), ('me', 'PRON'), ('the', 'DET'), ('cheapest', 'ADJ'), ('round', 'NOUN'), ('trips', 'NOUN'), ('from', 'ADP'), ('Dallas', 'NOUN'), ('to', 'PRT'), ('Atlanta', 'NOUN'), ('I', 'PRON'), ('would', 'VERB'), ('like', 'ADP'), ('to', 'PRT'), ('see', 'VERB'), ('flights', 'NOUN'), ('from', 'ADP'), ('Denver', 'NOUN'), ('to', 'PRT'), ('Philadelphia', 'NOUN'), ('.', '.'), ('Show', 'NOUN'), ('me', 'PRON'), ('the', 'DET'), ('price', 'NOUN'), ('of', 'ADP'), ('the', 'DET'), ('flights', 'NOUN'), ('leaving', 'VERB'), ('Atlanta', 'NOUN'), ('at', 'ADP'), ('about', 'ADP'), ('3', 'NUM'), ('in', 'ADP'), ('the', 'DET'), ('afternoon', 'NOUN'), ('and', 'CONJ'), ('arriving', 'VERB'), ('in', 'ADP'), ('San', 'NOUN'), ('Francisco', 'NOUN'), ('.', '.'), ('NASA', 'NOUN'), ('invited', 'VERB'), ('social', 'ADJ'), ('media', 'NOUN'), ('users', 'NOUN'), ('to', 'PRT'), ('experience', 'NOUN'), ('the', 'DET'), ('launch', 'NOUN'), ('of', 'ADP'), ('ICESAT-2', 'NOUN'), ('Satellite', 'NOUN'), ('.', '.')]\n",
      "41.67910170555115\n"
     ]
    }
   ],
   "source": [
    "sentence_test = open('Test_sentences.txt',mode='r').read() \n",
    "words = word_tokenize(sentence_test)\n",
    "\n",
    "start = time.time()\n",
    "tagged_seq = modified_Viterbi_rule_based(words)\n",
    "end = time.time()\n",
    "difference = end-start\n",
    "\n",
    "print(tagged_seq)\n",
    "print(difference)\n",
    "rulebased_test_tagged_seq = tagged_seq"
   ]
  },
  {
   "cell_type": "markdown",
   "metadata": {},
   "source": [
    "**Version 2**: Rule Based Tagging with Viterbi."
   ]
  },
  {
   "cell_type": "code",
   "execution_count": 43,
   "metadata": {},
   "outputs": [],
   "source": [
    "def bigram_tagger(wording) :\n",
    "    t0 = DefaultTagger('NOUN')\n",
    "    t1 = UnigramTagger(tr_set, backoff=t0)\n",
    "    t2 = BigramTagger(tr_set, backoff=t1)\n",
    "    listvalue=t2.tag(nltk.word_tokenize(wording))\n",
    "    return listvalue[0][1] "
   ]
  },
  {
   "cell_type": "code",
   "execution_count": 46,
   "metadata": {},
   "outputs": [],
   "source": [
    "# Viterbi Heuristic\n",
    "def modified_Viterbi_lexicon_based(words, train_bag = tr_tagd_wrds):\n",
    "    state = []\n",
    "    T = list(set([pair[1] for pair in train_bag]))\n",
    "    \n",
    "    for key, word in enumerate(words):\n",
    "        #initialise list of probability column for a given observation\n",
    "        p = [] \n",
    "        for tag in T:\n",
    "            if key == 0:\n",
    "                transition_p = tgs_df.loc['.', tag]\n",
    "            else:\n",
    "                transition_p = tgs_df.loc[state[-1], tag]\n",
    "                \n",
    "            # compute emission and state probabilities\n",
    "            emission_p = word_given_tag(words[key], tag)[0]/word_given_tag(words[key], tag)[1]                \n",
    "            state_probability = emission_p * transition_p    \n",
    "            p.append(state_probability)\n",
    "        pmax = max(p)\n",
    "        if pmax == 0.0:       \n",
    "            state_max = rule_based_tagging(word, pattern)\n",
    "            if state_max is None :\n",
    "                state_max = \".\"\n",
    "        else :\n",
    "            state_max = T[p.index(pmax)] \n",
    "        state.append(state_max)\n",
    "    return list(zip(words, state)) "
   ]
  },
  {
   "cell_type": "code",
   "execution_count": 48,
   "metadata": {
    "scrolled": false
   },
   "outputs": [
    {
     "data": {
      "text/plain": [
       "[[('Mr.', 'NOUN'),\n",
       "  ('Taccetta', 'NOUN'),\n",
       "  ('says', 'VERB'),\n",
       "  ('0', 'X'),\n",
       "  ('he', 'PRON'),\n",
       "  ('had', 'VERB'),\n",
       "  ('just', 'ADV'),\n",
       "  ('recouped', 'VERB'),\n",
       "  ('the', 'DET'),\n",
       "  ('$', '.'),\n",
       "  ('5,000', 'NUM'),\n",
       "  ('*U*', 'X'),\n",
       "  ('0', 'X'),\n",
       "  ('he', 'PRON'),\n",
       "  ('lost', 'VERB'),\n",
       "  ('*T*-1', 'X'),\n",
       "  ('in', 'ADP'),\n",
       "  ('the', 'DET'),\n",
       "  ('1987', 'NUM'),\n",
       "  ('crash', 'NOUN'),\n",
       "  ('when', 'ADV'),\n",
       "  ('he', 'PRON'),\n",
       "  ('lost', 'VERB'),\n",
       "  ('more', 'ADJ'),\n",
       "  ('money', 'NOUN'),\n",
       "  ('last', 'ADJ'),\n",
       "  ('Oct.', 'NOUN'),\n",
       "  ('13', 'NUM'),\n",
       "  ('*T*-2', 'X'),\n",
       "  ('.', '.')],\n",
       " [('Sir', 'NOUN'),\n",
       "  ('Peter', 'NOUN'),\n",
       "  ('Walters', 'NOUN'),\n",
       "  (',', '.'),\n",
       "  ('58-year-old', 'ADJ'),\n",
       "  ('chairman', 'NOUN'),\n",
       "  ('of', 'ADP'),\n",
       "  ('British', 'NOUN'),\n",
       "  ('Petroleum', 'NOUN'),\n",
       "  ('Co.', 'NOUN'),\n",
       "  ('until', 'ADP'),\n",
       "  ('next', 'ADJ'),\n",
       "  ('March', 'NOUN'),\n",
       "  (',', '.'),\n",
       "  ('joins', 'VERB'),\n",
       "  ('the', 'DET'),\n",
       "  ('board', 'NOUN'),\n",
       "  ('of', 'ADP'),\n",
       "  ('this', 'DET'),\n",
       "  ('cement', 'NOUN'),\n",
       "  ('products', 'NOUN'),\n",
       "  ('company', 'NOUN'),\n",
       "  ('on', 'ADP'),\n",
       "  ('Dec.', 'NOUN'),\n",
       "  ('1', 'NUM'),\n",
       "  ('.', '.')],\n",
       " [('``', '.'),\n",
       "  ('The', 'DET'),\n",
       "  ('way', 'NOUN'),\n",
       "  ('that', 'ADP'),\n",
       "  ('we', 'PRON'),\n",
       "  (\"'ve\", 'VERB'),\n",
       "  ('been', 'VERB'),\n",
       "  ('managing', 'VERB'),\n",
       "  ('Campbell', 'NOUN'),\n",
       "  ('U.S.A.', 'NOUN'),\n",
       "  ('*T*-2', 'X'),\n",
       "  ('can', 'VERB'),\n",
       "  ('hopefully', 'ADV'),\n",
       "  ('spread', 'VERB'),\n",
       "  ('to', 'PRT'),\n",
       "  ('other', 'ADJ'),\n",
       "  ('areas', 'NOUN'),\n",
       "  ('of', 'ADP'),\n",
       "  ('the', 'DET'),\n",
       "  ('company', 'NOUN'),\n",
       "  (',', '.'),\n",
       "  (\"''\", '.'),\n",
       "  ('Mr.', 'NOUN'),\n",
       "  ('Baum', 'NOUN'),\n",
       "  ('said', 'VERB'),\n",
       "  ('*T*-1', 'X'),\n",
       "  ('.', '.')],\n",
       " [('Cara', 'NOUN'),\n",
       "  (',', '.'),\n",
       "  ('a', 'DET'),\n",
       "  ('food', 'NOUN'),\n",
       "  ('services', 'NOUN'),\n",
       "  ('chain', 'NOUN'),\n",
       "  ('operator', 'NOUN'),\n",
       "  ('and', 'CONJ'),\n",
       "  ('Unicorp', 'NOUN'),\n",
       "  (',', '.'),\n",
       "  ('a', 'DET'),\n",
       "  ('holding', 'VERB'),\n",
       "  ('company', 'NOUN'),\n",
       "  (',', '.'),\n",
       "  ('are', 'VERB'),\n",
       "  ('based', 'VERB'),\n",
       "  ('*-1', 'X'),\n",
       "  ('in', 'ADP'),\n",
       "  ('Toronto', 'NOUN'),\n",
       "  ('.', '.')],\n",
       " [('And', 'CONJ'),\n",
       "  ('sales', 'NOUN'),\n",
       "  ('of', 'ADP'),\n",
       "  ('test-coaching', 'ADJ'),\n",
       "  ('booklets', 'NOUN'),\n",
       "  ('for', 'ADP'),\n",
       "  ('classroom', 'NOUN'),\n",
       "  ('instruction', 'NOUN'),\n",
       "  ('are', 'VERB'),\n",
       "  ('booming', 'VERB'),\n",
       "  ('.', '.')]]"
      ]
     },
     "execution_count": 48,
     "metadata": {},
     "output_type": "execute_result"
    }
   ],
   "source": [
    "random.seed(1234)\n",
    "rndom = [random.randint(1,len(ts_set)) for x in range(5)]\n",
    "test_run = [ts_set[i] for i in rndom]\n",
    "test_run_base = [tup for sent in test_run for tup in sent]\n",
    "test_tagged_words = [tup[0] for sent in test_run for tup in sent]\n",
    "test_run "
   ]
  },
  {
   "cell_type": "code",
   "execution_count": 49,
   "metadata": {},
   "outputs": [
    {
     "name": "stdout",
     "output_type": "stream",
     "text": [
      "recouped\n",
      "VERB\n",
      "Walters\n",
      "NOUN\n",
      "58-year-old\n",
      "NUM\n",
      "cement\n",
      "NOUN\n",
      "Time taken in seconds:  28.064935445785522\n",
      "[('Mr.', 'NOUN'), ('Taccetta', 'NOUN'), ('says', 'VERB'), ('0', 'X'), ('he', 'PRON'), ('had', 'VERB'), ('just', 'ADV'), ('recouped', 'VERB'), ('the', 'DET'), ('$', '.'), ('5,000', 'NUM'), ('*U*', 'X'), ('0', 'X'), ('he', 'PRON'), ('lost', 'VERB'), ('*T*-1', 'X'), ('in', 'ADP'), ('the', 'DET'), ('1987', 'NUM'), ('crash', 'NOUN'), ('when', 'ADV'), ('he', 'PRON'), ('lost', 'VERB'), ('more', 'ADV'), ('money', 'NOUN'), ('last', 'ADJ'), ('Oct.', 'NOUN'), ('13', 'NUM'), ('*T*-2', 'X'), ('.', '.'), ('Sir', 'NOUN'), ('Peter', 'NOUN'), ('Walters', 'NOUN'), (',', '.'), ('58-year-old', 'NUM'), ('chairman', 'NOUN'), ('of', 'ADP'), ('British', 'ADJ'), ('Petroleum', 'NOUN'), ('Co.', 'NOUN'), ('until', 'ADP'), ('next', 'ADJ'), ('March', 'NOUN'), (',', '.'), ('joins', 'VERB'), ('the', 'DET'), ('board', 'NOUN'), ('of', 'ADP'), ('this', 'DET'), ('cement', 'NOUN'), ('products', 'NOUN'), ('company', 'NOUN'), ('on', 'ADP'), ('Dec.', 'NOUN'), ('1', 'NUM'), ('.', '.'), ('``', '.'), ('The', 'DET'), ('way', 'NOUN'), ('that', 'ADP'), ('we', 'PRON'), (\"'ve\", 'VERB'), ('been', 'VERB'), ('managing', 'VERB'), ('Campbell', 'NOUN'), ('U.S.A.', 'NOUN'), ('*T*-2', 'X'), ('can', 'VERB'), ('hopefully', 'ADV'), ('spread', 'VERB'), ('to', 'PRT'), ('other', 'ADJ'), ('areas', 'NOUN'), ('of', 'ADP'), ('the', 'DET'), ('company', 'NOUN'), (',', '.'), (\"''\", '.'), ('Mr.', 'NOUN'), ('Baum', 'NOUN'), ('said', 'VERB'), ('*T*-1', 'X'), ('.', '.'), ('Cara', 'NOUN'), (',', '.'), ('a', 'DET'), ('food', 'NOUN'), ('services', 'NOUN'), ('chain', 'NOUN'), ('operator', 'NOUN'), ('and', 'CONJ'), ('Unicorp', 'NOUN'), (',', '.'), ('a', 'DET'), ('holding', 'NOUN'), ('company', 'NOUN'), (',', '.'), ('are', 'VERB'), ('based', 'VERB'), ('*-1', 'X'), ('in', 'ADP'), ('Toronto', 'NOUN'), ('.', '.'), ('And', 'CONJ'), ('sales', 'NOUN'), ('of', 'ADP'), ('test-coaching', 'ADJ'), ('booklets', 'NOUN'), ('for', 'ADP'), ('classroom', 'NOUN'), ('instruction', 'NOUN'), ('are', 'VERB'), ('booming', 'VERB'), ('.', '.')]\n"
     ]
    }
   ],
   "source": [
    "# tagging the test sentences\n",
    "start = time.time()\n",
    "tagged_seq = modified_Viterbi_lexicon_based(test_tagged_words)\n",
    "end = time.time()\n",
    "difference = end-start\n",
    "\n",
    "print(\"Time taken in seconds: \", difference)\n",
    "print(tagged_seq) "
   ]
  },
  {
   "cell_type": "code",
   "execution_count": 50,
   "metadata": {},
   "outputs": [
    {
     "name": "stdout",
     "output_type": "stream",
     "text": [
      "0.9649122807017544\n"
     ]
    }
   ],
   "source": [
    "# accuracy\n",
    "check = [i for i, j in zip(tagged_seq, test_run_base) if i == j] \n",
    "lexicon_based_viterbi_accuracy = len(check)/len(tagged_seq)\n",
    "print(lexicon_based_viterbi_accuracy) "
   ]
  },
  {
   "cell_type": "code",
   "execution_count": 51,
   "metadata": {},
   "outputs": [
    {
     "data": {
      "text/plain": [
       "[[('lost', 'VERB'), (('more', 'ADV'), ('more', 'ADJ'))],\n",
       " [(',', '.'), (('58-year-old', 'NUM'), ('58-year-old', 'ADJ'))],\n",
       " [('of', 'ADP'), (('British', 'ADJ'), ('British', 'NOUN'))],\n",
       " [('a', 'DET'), (('holding', 'NOUN'), ('holding', 'VERB'))]]"
      ]
     },
     "execution_count": 51,
     "metadata": {},
     "output_type": "execute_result"
    }
   ],
   "source": [
    "incorrect_tagged_cases = [[test_run_base[i-1],j] for i, j in enumerate(zip(tagged_seq, test_run_base)) if j[0]!=j[1]]\n",
    "incorrect_tagged_cases "
   ]
  },
  {
   "cell_type": "code",
   "execution_count": 52,
   "metadata": {},
   "outputs": [
    {
     "name": "stdout",
     "output_type": "stream",
     "text": [
      "Android\n",
      "NOUN\n",
      "Google\n",
      "NOUN\n",
      "Android\n",
      "NOUN\n",
      "OS\n",
      "NOUN\n",
      "worldwide\n",
      "NOUN\n",
      "smartphones\n",
      "VERB\n",
      "2011\n",
      "NUM\n",
      "2013\n",
      "NUM\n",
      "Google\n",
      "NOUN\n",
      "Twitter\n",
      "NOUN\n",
      "2015\n",
      "NUM\n",
      "Google\n",
      "NOUN\n",
      "Twitter\n",
      "NOUN\n",
      "firehose\n",
      "NOUN\n",
      "Twitter\n",
      "NOUN\n",
      "online\n",
      "NOUN\n",
      "interact\n",
      "NOUN\n",
      "messages\n",
      "VERB\n",
      "tweets\n",
      "NOUN\n",
      "domineering\n",
      "VERB\n",
      "personality\n",
      "NOUN\n",
      "2018\n",
      "NUM\n",
      "FIFA\n",
      "NOUN\n",
      "Cup\n",
      "NOUN\n",
      "21st\n",
      "NUM\n",
      "FIFA\n",
      "NOUN\n",
      "Cup\n",
      "NOUN\n",
      "tournament\n",
      "NOUN\n",
      "contested\n",
      "VERB\n",
      "Cup\n",
      "NOUN\n",
      "trips\n",
      "NOUN\n",
      "arriving\n",
      "VERB\n",
      "NASA\n",
      "NOUN\n",
      "invited\n",
      "VERB\n",
      "ICESAT-2\n",
      "NOUN\n",
      "Satellite\n",
      "NOUN\n",
      "[('Android', 'NOUN'), ('is', 'VERB'), ('a', 'DET'), ('mobile', 'ADJ'), ('operating', 'NOUN'), ('system', 'NOUN'), ('developed', 'VERB'), ('by', 'ADP'), ('Google', 'NOUN'), ('.', '.'), ('Android', 'NOUN'), ('has', 'VERB'), ('been', 'VERB'), ('the', 'DET'), ('best-selling', 'ADJ'), ('OS', 'NOUN'), ('worldwide', 'NOUN'), ('on', 'ADP'), ('smartphones', 'VERB'), ('since', 'ADP'), ('2011', 'NUM'), ('and', 'CONJ'), ('on', 'ADP'), ('tablets', 'NOUN'), ('since', 'ADP'), ('2013', 'NUM'), ('.', '.'), ('Google', 'NOUN'), ('and', 'CONJ'), ('Twitter', 'NOUN'), ('made', 'VERB'), ('a', 'DET'), ('deal', 'NOUN'), ('in', 'ADP'), ('2015', 'NUM'), ('that', 'ADP'), ('gave', 'VERB'), ('Google', 'NOUN'), ('access', 'NOUN'), ('to', 'PRT'), ('Twitter', 'NOUN'), (\"'s\", 'PRT'), ('firehose', 'NOUN'), ('.', '.'), ('Twitter', 'NOUN'), ('is', 'VERB'), ('an', 'DET'), ('online', 'NOUN'), ('news', 'NOUN'), ('and', 'CONJ'), ('social', 'ADJ'), ('networking', 'NOUN'), ('service', 'NOUN'), ('on', 'ADP'), ('which', 'DET'), ('users', 'NOUN'), ('post', 'NOUN'), ('and', 'CONJ'), ('interact', 'NOUN'), ('with', 'ADP'), ('messages', 'VERB'), ('known', 'VERB'), ('as', 'ADP'), ('tweets', 'NOUN'), ('.', '.'), ('Before', 'ADP'), ('entering', 'VERB'), ('politics', 'NOUN'), (',', '.'), ('Donald', 'NOUN'), ('Trump', 'NOUN'), ('was', 'VERB'), ('a', 'DET'), ('domineering', 'VERB'), ('businessman', 'NOUN'), ('and', 'CONJ'), ('a', 'DET'), ('television', 'NOUN'), ('personality', 'NOUN'), ('.', '.'), ('The', 'DET'), ('2018', 'NUM'), ('FIFA', 'NOUN'), ('World', 'NOUN'), ('Cup', 'NOUN'), ('is', 'VERB'), ('the', 'DET'), ('21st', 'NUM'), ('FIFA', 'NOUN'), ('World', 'NOUN'), ('Cup', 'NOUN'), (',', '.'), ('an', 'DET'), ('international', 'ADJ'), ('football', 'NOUN'), ('tournament', 'NOUN'), ('contested', 'VERB'), ('once', 'ADV'), ('every', 'DET'), ('four', 'NUM'), ('years', 'NOUN'), ('.', '.'), ('This', 'DET'), ('is', 'VERB'), ('the', 'DET'), ('first', 'ADJ'), ('World', 'NOUN'), ('Cup', 'NOUN'), ('to', 'PRT'), ('be', 'VERB'), ('held', 'VERB'), ('in', 'ADP'), ('Eastern', 'NOUN'), ('Europe', 'NOUN'), ('and', 'CONJ'), ('the', 'DET'), ('11th', 'ADJ'), ('time', 'NOUN'), ('that', 'ADP'), ('it', 'PRON'), ('has', 'VERB'), ('been', 'VERB'), ('held', 'VERB'), ('in', 'ADP'), ('Europe', 'NOUN'), ('.', '.'), ('Show', 'NOUN'), ('me', 'PRON'), ('the', 'DET'), ('cheapest', 'ADJ'), ('round', 'NOUN'), ('trips', 'NOUN'), ('from', 'ADP'), ('Dallas', 'NOUN'), ('to', 'PRT'), ('Atlanta', 'NOUN'), ('I', 'PRON'), ('would', 'VERB'), ('like', 'ADP'), ('to', 'PRT'), ('see', 'VERB'), ('flights', 'NOUN'), ('from', 'ADP'), ('Denver', 'NOUN'), ('to', 'PRT'), ('Philadelphia', 'NOUN'), ('.', '.'), ('Show', 'NOUN'), ('me', 'PRON'), ('the', 'DET'), ('price', 'NOUN'), ('of', 'ADP'), ('the', 'DET'), ('flights', 'NOUN'), ('leaving', 'VERB'), ('Atlanta', 'NOUN'), ('at', 'ADP'), ('about', 'ADP'), ('3', 'NUM'), ('in', 'ADP'), ('the', 'DET'), ('afternoon', 'NOUN'), ('and', 'CONJ'), ('arriving', 'VERB'), ('in', 'ADP'), ('San', 'NOUN'), ('Francisco', 'NOUN'), ('.', '.'), ('NASA', 'NOUN'), ('invited', 'VERB'), ('social', 'ADJ'), ('media', 'NOUN'), ('users', 'NOUN'), ('to', 'PRT'), ('experience', 'NOUN'), ('the', 'DET'), ('launch', 'NOUN'), ('of', 'ADP'), ('ICESAT-2', 'NOUN'), ('Satellite', 'NOUN'), ('.', '.')]\n",
      "43.41091704368591\n"
     ]
    }
   ],
   "source": [
    "sentence_test = open('Test_sentences.txt',mode='r').read()\n",
    "words = word_tokenize(sentence_test)\n",
    "\n",
    "start = time.time()\n",
    "tagged_seq = modified_Viterbi_lexicon_based(words)\n",
    "end = time.time()\n",
    "difference = end-start\n",
    "\n",
    "print(tagged_seq)\n",
    "print(difference)\n",
    "lexicon_test_tagged_seq = tagged_seq "
   ]
  },
  {
   "cell_type": "markdown",
   "metadata": {},
   "source": [
    "#### Evaluating tagging accuracy"
   ]
  },
  {
   "cell_type": "markdown",
   "metadata": {},
   "source": [
    "We have already evaluated tagging accuracies. They are as follows: "
   ]
  },
  {
   "cell_type": "code",
   "execution_count": 53,
   "metadata": {},
   "outputs": [
    {
     "name": "stdout",
     "output_type": "stream",
     "text": [
      "Vannila Viterbi Accuracy: 0.9385964912280702\n",
      "Lexicon Based Viterbi Accuracy: 0.9649122807017544\n",
      "Rule Based Viterbi Accuracy: 0.9649122807017544\n"
     ]
    }
   ],
   "source": [
    "print(\"Vannila Viterbi Accuracy: \"+ str(vannila_viterbi_accuracy))\n",
    "print(\"Lexicon Based Viterbi Accuracy: \"+ str(lexicon_based_viterbi_accuracy))\n",
    "print(\"Rule Based Viterbi Accuracy: \"+ str(rulebased_modified_viterbi_accuracy)) "
   ]
  },
  {
   "cell_type": "markdown",
   "metadata": {},
   "source": [
    "### Compare the tagging accuracies of the modifications with the vanilla Viterbi algorithm"
   ]
  },
  {
   "cell_type": "code",
   "execution_count": 54,
   "metadata": {},
   "outputs": [
    {
     "name": "stdout",
     "output_type": "stream",
     "text": [
      "Vannila Viterbi Accuracy: 0.9385964912280702\n",
      "Lexicon Based Viterbi Accuracy: 0.9649122807017544\n",
      "Rule Based Viterbi Accuracy: 0.9649122807017544\n"
     ]
    }
   ],
   "source": [
    "print(\"Vannila Viterbi Accuracy: \"+ str(vannila_viterbi_accuracy))\n",
    "print(\"Lexicon Based Viterbi Accuracy: \"+ str(lexicon_based_viterbi_accuracy))\n",
    "print(\"Rule Based Viterbi Accuracy: \"+ str(rulebased_modified_viterbi_accuracy)) "
   ]
  },
  {
   "cell_type": "markdown",
   "metadata": {},
   "source": [
    "Lexicon-based and rule-based Viterbi have a greater accuracy than Vanilla Viterbi. "
   ]
  },
  {
   "cell_type": "markdown",
   "metadata": {},
   "source": [
    "### List down cases which were incorrectly tagged by original POS tagger and got corrected by your modifications"
   ]
  },
  {
   "cell_type": "markdown",
   "metadata": {},
   "source": [
    "* Words like 'Twitter', 'Android' and 'Google' are correctly tagged as 'NOUN' in modified Viterbi algorithm.\n",
    "* Words like 'NASA' and 'FIFA' are correctly tagged as 'NOUN'. (A word where all letters are uppercase is generally an abbreviation and hence is considered a noun).\n",
    "* Words ending in '-ing' like 'arriving' and words ending in '-ed' like 'invited' are correctly tagged as 'VERB' in Rule Based Tagging.\n",
    "* Words with integers or floating point values are properly tagged as 'NUM' by the rule based tagger.\n",
    "* In Lexicon based tagger, words are tagged as 'NOUN' by default in the default tagger if any of the taggers are not able to tag them. It corrects most of the unknown words like 'Google', 'Android', 'Twitter' etc. "
   ]
  }
 ],
 "metadata": {
  "kernelspec": {
   "display_name": "Python 3",
   "language": "python",
   "name": "python3"
  },
  "language_info": {
   "codemirror_mode": {
    "name": "ipython",
    "version": 3
   },
   "file_extension": ".py",
   "mimetype": "text/x-python",
   "name": "python",
   "nbconvert_exporter": "python",
   "pygments_lexer": "ipython3",
   "version": "3.8.5"
  }
 },
 "nbformat": 4,
 "nbformat_minor": 2
}
